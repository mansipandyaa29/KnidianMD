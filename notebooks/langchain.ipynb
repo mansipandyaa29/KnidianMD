{
 "cells": [
  {
   "cell_type": "code",
   "execution_count": 208,
   "metadata": {},
   "outputs": [],
   "source": [
    "import numpy as np"
   ]
  },
  {
   "cell_type": "markdown",
   "metadata": {},
   "source": [
    "## Document Loading"
   ]
  },
  {
   "cell_type": "code",
   "execution_count": 209,
   "metadata": {},
   "outputs": [],
   "source": [
    "from langchain_community.document_loaders.csv_loader import CSVLoader"
   ]
  },
  {
   "cell_type": "code",
   "execution_count": 210,
   "metadata": {},
   "outputs": [],
   "source": [
    "loader = CSVLoader(\n",
    "    file_path=\"/Users/mansipandya/Desktop/KnidianMD/data/symptoms_db.csv\",\n",
    "    csv_args={\n",
    "        \"delimiter\": \",\",\n",
    "        \"quotechar\": '\"',\n",
    "        \"fieldnames\": [\"id\", \"symptom\"],\n",
    "    },\n",
    ")\n",
    "data = loader.load()"
   ]
  },
  {
   "cell_type": "code",
   "execution_count": 211,
   "metadata": {},
   "outputs": [
    {
     "data": {
      "text/plain": [
       "[Document(page_content='id: id\\nsymptom: symptom', metadata={'source': '/Users/mansipandya/Desktop/KnidianMD/data/symptoms_db.csv', 'row': 0}),\n",
       " Document(page_content='id: 1\\nsymptom: Family history of ankylosing spondylitis', metadata={'source': '/Users/mansipandya/Desktop/KnidianMD/data/symptoms_db.csv', 'row': 1}),\n",
       " Document(page_content='id: 2\\nsymptom: tummy ache', metadata={'source': '/Users/mansipandya/Desktop/KnidianMD/data/symptoms_db.csv', 'row': 2}),\n",
       " Document(page_content='id: 2\\nsymptom: hurt in belly', metadata={'source': '/Users/mansipandya/Desktop/KnidianMD/data/symptoms_db.csv', 'row': 3}),\n",
       " Document(page_content='id: 2\\nsymptom: pain in belly', metadata={'source': '/Users/mansipandya/Desktop/KnidianMD/data/symptoms_db.csv', 'row': 4})]"
      ]
     },
     "execution_count": 211,
     "metadata": {},
     "output_type": "execute_result"
    }
   ],
   "source": [
    "data[:5]"
   ]
  },
  {
   "cell_type": "markdown",
   "metadata": {},
   "source": [
    "## Document Splitting"
   ]
  },
  {
   "cell_type": "markdown",
   "metadata": {},
   "source": [
    "Probably deal with this later\n"
   ]
  },
  {
   "cell_type": "markdown",
   "metadata": {},
   "source": [
    "## Vector Stores and Embedding"
   ]
  },
  {
   "cell_type": "code",
   "execution_count": 212,
   "metadata": {},
   "outputs": [],
   "source": [
    "import getpass\n",
    "import os\n",
    "\n",
    "os.environ[\"OPENAI_API_KEY\"] = getpass.getpass()"
   ]
  },
  {
   "cell_type": "code",
   "execution_count": 213,
   "metadata": {},
   "outputs": [],
   "source": [
    "from langchain_openai import OpenAIEmbeddings\n",
    "\n",
    "embedding = OpenAIEmbeddings()"
   ]
  },
  {
   "cell_type": "code",
   "execution_count": 214,
   "metadata": {},
   "outputs": [],
   "source": [
    "from langchain_community.vectorstores import Chroma"
   ]
  },
  {
   "cell_type": "code",
   "execution_count": 8,
   "metadata": {},
   "outputs": [],
   "source": [
    "persist_directory = '/Users/mansipandya/Desktop/KnidianMD/docs/chroma/'"
   ]
  },
  {
   "cell_type": "code",
   "execution_count": 9,
   "metadata": {},
   "outputs": [],
   "source": [
    "# Create the vector store\n",
    "vectordb = Chroma.from_documents(\n",
    "    documents=data,\n",
    "    embedding=embedding,\n",
    "    persist_directory=persist_directory\n",
    ")"
   ]
  },
  {
   "cell_type": "code",
   "execution_count": 215,
   "metadata": {},
   "outputs": [
    {
     "name": "stdout",
     "output_type": "stream",
     "text": [
      "12066\n"
     ]
    }
   ],
   "source": [
    "print(vectordb._collection.count())"
   ]
  },
  {
   "cell_type": "code",
   "execution_count": 216,
   "metadata": {},
   "outputs": [],
   "source": [
    "vectordb = Chroma(persist_directory=persist_directory, embedding_function=embedding)"
   ]
  },
  {
   "cell_type": "markdown",
   "metadata": {},
   "source": [
    "## Retrieval"
   ]
  },
  {
   "cell_type": "code",
   "execution_count": 219,
   "metadata": {},
   "outputs": [],
   "source": [
    "question = \"A 24-year-old woman presents with acute swelling in her right knee, pain that hinders her ability to bear weight on her right leg, and a one-week history of intermittent low-grade fevers and malaise. What symptoms in the database present in this sentence?\"\n",
    "docs = vectordb.max_marginal_relevance_search(question,k=5, fetch_k=5)"
   ]
  },
  {
   "cell_type": "code",
   "execution_count": 221,
   "metadata": {},
   "outputs": [
    {
     "data": {
      "text/plain": [
       "[Document(page_content='id: 4658\\nsymptom: knee tenderness with swelling suprapatellar bilateral', metadata={'row': 11969, 'source': '/Users/mansipandya/Desktop/KnidianMD/data/symptoms_db.csv'}),\n",
       " Document(page_content='id: 4658\\nsymptom: Tenderness on palpation of suprapatellar region of both knees with swelling', metadata={'row': 11968, 'source': '/Users/mansipandya/Desktop/KnidianMD/data/symptoms_db.csv'}),\n",
       " Document(page_content='id: 1109\\nsymptom: Pain of knee region', metadata={'row': 3234, 'source': '/Users/mansipandya/Desktop/KnidianMD/data/symptoms_db.csv'}),\n",
       " Document(page_content='id: 4646\\nsymptom: Posterior knee pain', metadata={'row': 11943, 'source': '/Users/mansipandya/Desktop/KnidianMD/data/symptoms_db.csv'}),\n",
       " Document(page_content='id: 4657\\nsymptom: Superior unilateral or bilateral knee joint pain', metadata={'row': 11967, 'source': '/Users/mansipandya/Desktop/KnidianMD/data/symptoms_db.csv'})]"
      ]
     },
     "execution_count": 221,
     "metadata": {},
     "output_type": "execute_result"
    }
   ],
   "source": [
    "docs"
   ]
  },
  {
   "cell_type": "code",
   "execution_count": 220,
   "metadata": {},
   "outputs": [
    {
     "name": "stdout",
     "output_type": "stream",
     "text": [
      "id: 4658\n",
      "symptom: knee tenderness with swelling suprapatellar bilateral\n",
      "id: 4658\n",
      "symptom: Tenderness on palpation of suprapatellar region of both knees with swelling\n",
      "id: 1109\n",
      "symptom: Pain of knee region\n",
      "id: 4646\n",
      "symptom: Posterior knee pain\n",
      "id: 4657\n",
      "symptom: Superior unilateral or bilateral knee joint pain\n"
     ]
    }
   ],
   "source": [
    "for i in range(len(docs)):\n",
    "    print(docs[i].page_content)"
   ]
  },
  {
   "cell_type": "markdown",
   "metadata": {},
   "source": [
    "## Chaining Prompts"
   ]
  },
  {
   "cell_type": "code",
   "execution_count": 294,
   "metadata": {},
   "outputs": [],
   "source": [
    "from openai import OpenAI\n",
    "\n",
    "client = OpenAI()\n",
    "\n",
    "def get_completion_from_messages(messages, model=\"gpt-3.5-turbo\", temperature=0, max_tokens=500):\n",
    "    response = client.chat.completions.create(\n",
    "        model=model,\n",
    "        messages=messages,\n",
    "        temperature=temperature, \n",
    "        max_tokens=max_tokens, \n",
    "    )\n",
    "    return response.choices[0].message.content"
   ]
  },
  {
   "cell_type": "code",
   "execution_count": 312,
   "metadata": {},
   "outputs": [
    {
     "name": "stdout",
     "output_type": "stream",
     "text": [
      "['acute swelling', 'pain', 'fevers', 'malaise']\n"
     ]
    }
   ],
   "source": [
    "delimiter = \"####\"\n",
    "\n",
    "medical_history = \"A 24-year-old woman presents with acute swelling in her right knee, pain that hinders her ability to bear weight on her right leg, and a one-week history of intermittent low-grade fevers and malaise\"\n",
    "\n",
    "system_message = f\"\"\"\n",
    "You will be provided with a question. \\\n",
    "The question will be delimited with {delimiter} characters. \\\n",
    "Output a python list, where each entry in the list is a symptom present in the medical history text below \\\n",
    "\n",
    "{medical_history}\n",
    "\n",
    "If a symptoms is mentioned, it must be associated with it must be present in the medical history above. \\\n",
    "If no symptoms are found, output an empty list. \\\n",
    "\n",
    "Only output the list of objects, with nothing else.\n",
    "\"\"\"\n",
    "user_message_1 = f\"\"\"What symptoms are present in the medical history?\"\"\"\n",
    "\n",
    "messages =  [  \n",
    "{'role':'system', \n",
    " 'content': system_message},    \n",
    " \n",
    "{'role':'user', \n",
    " 'content': f\"{delimiter}{user_message_1}{delimiter}\"},  \n",
    "] \n",
    "\n",
    "response_1 = get_completion_from_messages(messages)\n",
    "\n",
    "print(response_1)"
   ]
  },
  {
   "cell_type": "code",
   "execution_count": 313,
   "metadata": {},
   "outputs": [
    {
     "data": {
      "text/plain": [
       "str"
      ]
     },
     "execution_count": 313,
     "metadata": {},
     "output_type": "execute_result"
    }
   ],
   "source": [
    "type(response_1)"
   ]
  },
  {
   "cell_type": "code",
   "execution_count": 314,
   "metadata": {},
   "outputs": [],
   "source": [
    "response_1 = response_1.strip('[]')\n",
    "response_1 = response_1.split(', ')\n",
    "response_1 = [symptom.strip(\"'\") for symptom in response_1]"
   ]
  },
  {
   "cell_type": "code",
   "execution_count": 315,
   "metadata": {},
   "outputs": [
    {
     "data": {
      "text/plain": [
       "['acute swelling', 'pain', 'fevers', 'malaise']"
      ]
     },
     "execution_count": 315,
     "metadata": {},
     "output_type": "execute_result"
    }
   ],
   "source": [
    "response_1"
   ]
  },
  {
   "cell_type": "code",
   "execution_count": 241,
   "metadata": {},
   "outputs": [
    {
     "data": {
      "text/plain": [
       "list"
      ]
     },
     "execution_count": 241,
     "metadata": {},
     "output_type": "execute_result"
    }
   ],
   "source": [
    "type(response_1)"
   ]
  },
  {
   "cell_type": "code",
   "execution_count": 250,
   "metadata": {},
   "outputs": [
    {
     "name": "stdout",
     "output_type": "stream",
     "text": [
      "id: 4658\n",
      "symptom: Tenderness on palpation of suprapatellar region of both knees with swelling\n",
      "id: 4431\n",
      "symptom: Knee joint - tender (finding)\n",
      "id: 4432\n",
      "symptom: stiffness of knee joint (diagnosis)\n",
      "id: 1276\n",
      "symptom: Finding of joint swelling\n",
      "id: 1109\n",
      "symptom: Pain of knee region\n",
      "id: 7\n",
      "symptom: Hindlimb pain\n",
      "id: 1039\n",
      "symptom: Unable to move leg\n",
      "id: 3949\n",
      "symptom: Pain in lower limb worsen upon elevation of the extremity\n",
      "id: 3780\n",
      "symptom: Exertional leg pain\n",
      "id: 3472\n",
      "symptom: Lower leg pain worsened by lying down\n",
      "id: 2438\n",
      "symptom: Fevers (fever that comes and goes)\n",
      "id: 18\n",
      "symptom: Febrile\n",
      "id: 4389\n",
      "symptom: No fever\n",
      "id: 514\n",
      "symptom: FeversScarlet\n",
      "id: 2822\n",
      "symptom: body temperature low\n",
      "id: 527\n",
      "symptom: Malar rash\n",
      "id: 4261\n",
      "symptom: Malarial coma\n",
      "id: 373\n",
      "symptom: Meningitis-like\n",
      "id: 2437\n",
      "symptom: Malaria is endemic in recent area visited\n",
      "id: 696\n",
      "symptom: Infection\n"
     ]
    }
   ],
   "source": [
    "for i in range (len(response_1)):\n",
    "    question = f\"{response_1[i]}. What symptoms in the database present is this?\"\n",
    "    docs = vectordb.max_marginal_relevance_search(question,k=5, fetch_k=10)\n",
    "    for each_doc in docs:\n",
    "        print(each_doc.page_content)"
   ]
  },
  {
   "cell_type": "markdown",
   "metadata": {},
   "source": [
    "## QA Chain"
   ]
  },
  {
   "cell_type": "markdown",
   "metadata": {},
   "source": [
    "Tried using the QA Chain but it gives really bad answers"
   ]
  },
  {
   "cell_type": "markdown",
   "metadata": {},
   "source": [
    "#### Retrieval QA Chain with Prompt"
   ]
  },
  {
   "cell_type": "code",
   "execution_count": 189,
   "metadata": {},
   "outputs": [],
   "source": [
    "from langchain_openai import ChatOpenAI\n",
    "\n",
    "llm = ChatOpenAI(model=\"gpt-3.5-turbo-0125\")"
   ]
  },
  {
   "cell_type": "code",
   "execution_count": 156,
   "metadata": {},
   "outputs": [],
   "source": [
    "from langchain_core.prompts import PromptTemplate\n",
    "from langchain_core.output_parsers import StrOutputParser\n",
    "from operator import itemgetter\n",
    "from langchain_core.runnables import RunnablePassthrough\n",
    "\n",
    "\n",
    "template = \"\"\" Given the question and context:\n",
    "{context}\n",
    "Question: {question}\n",
    "\n",
    "Use the question along with the retriever to get all the \n",
    "\"\"\"\n",
    "\n",
    "custom_rag_prompt = PromptTemplate.from_template(template)\n",
    "\n",
    "retriever = vectordb.as_retriever(search_type=\"mmr\", search_kwargs={\"k\": 20})\n",
    "\n",
    "def format_docs(docs):\n",
    "    return \"\\n\\n\".join(doc.page_content for doc in docs)\n",
    "\n",
    "\n",
    "rag_chain = (\n",
    "    {\"context\": retriever | format_docs, \"question\": RunnablePassthrough()}\n",
    "    | custom_rag_prompt\n",
    "    | llm\n",
    "    | StrOutputParser()\n",
    ")"
   ]
  },
  {
   "cell_type": "code",
   "execution_count": 157,
   "metadata": {},
   "outputs": [],
   "source": [
    "question = \"A 24-year-old woman presents with acute swelling in her right knee, pain that hinders her ability to bear weight on her right leg, and a one-week history of intermittent low-grade fevers and malaise. What symptoms in the context are present in the previous sentence?\""
   ]
  },
  {
   "cell_type": "code",
   "execution_count": 158,
   "metadata": {},
   "outputs": [
    {
     "data": {
      "text/plain": [
       "'symptoms present in the context:\\n\\n- Symptom: Pain of knee region\\n- Symptom: Knee pain\\n- Symptom: Pain in unspecified knee\\n- Symptom: Painful knee'"
      ]
     },
     "execution_count": 158,
     "metadata": {},
     "output_type": "execute_result"
    }
   ],
   "source": [
    "rag_chain.invoke(question)"
   ]
  },
  {
   "cell_type": "markdown",
   "metadata": {},
   "source": [
    "## Preprocessing the Input Questions"
   ]
  },
  {
   "cell_type": "code",
   "execution_count": 251,
   "metadata": {},
   "outputs": [],
   "source": [
    "import pandas as pd\n",
    "import re\n",
    "import nltk\n",
    "from nltk.corpus import stopwords"
   ]
  },
  {
   "cell_type": "code",
   "execution_count": 252,
   "metadata": {},
   "outputs": [
    {
     "name": "stderr",
     "output_type": "stream",
     "text": [
      "[nltk_data] Downloading package stopwords to\n",
      "[nltk_data]     /Users/mansipandya/nltk_data...\n",
      "[nltk_data]   Package stopwords is already up-to-date!\n"
     ]
    }
   ],
   "source": [
    "nltk.download('stopwords')\n",
    "stop_words = set(stopwords.words('english'))\n",
    "stop_words.discard('no')"
   ]
  },
  {
   "cell_type": "code",
   "execution_count": 253,
   "metadata": {},
   "outputs": [],
   "source": [
    "df = pd.read_csv('/Users/mansipandya/Desktop/KnidianMD/data/test_cases.csv')\n",
    "original_text = df.iloc[0].medical_history\n",
    "original = df.iloc[0].medical_history.lower() \n",
    "pattern = r'\\b\\d+(\\.\\d+)?\\s*\\w+/\\w+\\b'\n",
    "original = re.sub(pattern, '.', original)\n",
    "original = original.replace('-', ' ')\n",
    "original = ''.join(char for char in original if char.isalpha() or char.isspace() or char == '.')\n",
    "words = original.split()\n",
    "filtered_words = [word for word in words if word not in stop_words]\n",
    "cleaned_text = ' '.join(filtered_words)\n",
    "sentences = cleaned_text.split('.')\n",
    "cleaned_sentences = [sentence.strip() for sentence in sentences]"
   ]
  },
  {
   "cell_type": "markdown",
   "metadata": {},
   "source": [
    "## Function to Deal with entire Input Text for Retrieval"
   ]
  },
  {
   "cell_type": "code",
   "execution_count": 254,
   "metadata": {},
   "outputs": [
    {
     "data": {
      "text/plain": [
       "['year old woman presents acute swelling right knee pain hinders ability bear weight right leg one week history intermittent low grade fevers malaise',\n",
       " 'history daily heroin use otherwise healthy',\n",
       " 'reports no recent sexual activity',\n",
       " 'examination right knee erythematous hot obvious joint effusion',\n",
       " 'limited minimal range motion knee',\n",
       " 'track marks antecubital fossae',\n",
       " 'joint aspiration shows leukocyte count cells per mm neutrophils',\n",
       " '']"
      ]
     },
     "execution_count": 254,
     "metadata": {},
     "output_type": "execute_result"
    }
   ],
   "source": [
    "cleaned_sentences"
   ]
  },
  {
   "cell_type": "code",
   "execution_count": 277,
   "metadata": {},
   "outputs": [],
   "source": [
    "def run(sentences):\n",
    "    symptom_list = []\n",
    "    symptom_id_list = []\n",
    "    k_number=5\n",
    "    for sentence in sentences:\n",
    "        if sentence == '':\n",
    "            continue\n",
    "        question = f\"{sentence}. What symptoms in the database present in this sentence?\"\n",
    "        docs = vectordb.max_marginal_relevance_search(question,k=k_number, fetch_k=10)\n",
    "        for i in range(k_number):\n",
    "            text = docs[i].page_content\n",
    "            lines = text.split('\\n')\n",
    "            for line in lines:\n",
    "                if line.startswith('id:') and line!= 'id: id':\n",
    "                    symptom_id = line.split(': ', 1)[1]\n",
    "                    symptom_id_list.append(int(symptom_id))\n",
    "                if line.startswith('symptom:') and line != 'symptom: symptom':\n",
    "                    symptom = line.split(': ', 1)[1]\n",
    "                    symptom_list.append(symptom)\n",
    "\n",
    "        #create a dictionary of the two\n",
    "        symptom_dict = {symptom_id_list[i]: symptom_list[i] for i in range(len(symptom_list))}\n",
    "                \n",
    "    return symptom_dict"
   ]
  },
  {
   "cell_type": "code",
   "execution_count": 278,
   "metadata": {},
   "outputs": [],
   "source": [
    "symptom_list = run(cleaned_sentences)"
   ]
  },
  {
   "cell_type": "code",
   "execution_count": 279,
   "metadata": {},
   "outputs": [
    {
     "data": {
      "text/plain": [
       "{1109: 'Arthralgia of knee',\n",
       " 4658: 'Tenderness on palpation of suprapatellar region of both knees with swelling',\n",
       " 4657: 'Superior unilateral or bilateral knee joint pain',\n",
       " 2745: 'Personal history of drug therapy',\n",
       " 1469: 'Drug UserIntravenous',\n",
       " 265: 'History of - alcoholism (context-dependent category)',\n",
       " 1301: 'Drug addiction',\n",
       " 3116: 'Unsafe sexual practices',\n",
       " 306: 'decreased sexual interest (symptom)',\n",
       " 2965: 'Sexual Dysfunction',\n",
       " 3836: 'bleeding after sexual intercourse',\n",
       " 4431: 'Tenderness of knee joint.',\n",
       " 4217: 'joint tenderness was seen',\n",
       " 3720: 'Skin of the knee',\n",
       " 450: 'Limitation of joint movement',\n",
       " 4432: 'stiffness of knee joint (diagnosis)',\n",
       " 1162: 'cicatrix',\n",
       " 4686: 'Tenderness in popliteal fossa',\n",
       " 4587: 'Winged scapula',\n",
       " 4238: 'Tuberculum Arthriticum',\n",
       " 3527: 'Testiculat trauma',\n",
       " 2824: 'neutrophilic leukocytosis',\n",
       " 3713: 'Increased leukocyte count in CSF',\n",
       " 437: 'Decreased blood leukocyte number',\n",
       " 2204: 'Bronchoalveolar lavage with neutophils',\n",
       " 4318: 'Leucocytes: normal'}"
      ]
     },
     "execution_count": 279,
     "metadata": {},
     "output_type": "execute_result"
    }
   ],
   "source": [
    "symptom_list"
   ]
  },
  {
   "cell_type": "markdown",
   "metadata": {},
   "source": [
    "## Function to Deal with entire Input Text for New Custom Retrieval Chain"
   ]
  },
  {
   "cell_type": "code",
   "execution_count": 319,
   "metadata": {},
   "outputs": [
    {
     "data": {
      "text/plain": [
       "['year old woman presents acute swelling right knee pain hinders ability bear weight right leg one week history intermittent low grade fevers malaise',\n",
       " 'history daily heroin use otherwise healthy',\n",
       " 'reports no recent sexual activity',\n",
       " 'examination right knee erythematous hot obvious joint effusion',\n",
       " 'limited minimal range motion knee',\n",
       " 'track marks antecubital fossae',\n",
       " 'joint aspiration shows leukocyte count cells per mm neutrophils',\n",
       " '']"
      ]
     },
     "execution_count": 319,
     "metadata": {},
     "output_type": "execute_result"
    }
   ],
   "source": [
    "cleaned_sentences"
   ]
  },
  {
   "cell_type": "code",
   "execution_count": 326,
   "metadata": {},
   "outputs": [],
   "source": [
    "def run_updated(sentences):\n",
    "    symptom_list = []\n",
    "    symptom_id_list = []\n",
    "    k_number=5\n",
    "    for sentence in sentences:\n",
    "        if sentence == '':\n",
    "            continue\n",
    "        medical_history = sentence\n",
    "        delimiter = \"####\"\n",
    "        system_message = f\"\"\"\n",
    "        You will be provided with a question. \\\n",
    "        The question will be delimited with {delimiter} characters. \\\n",
    "        Output a python list, where each entry in the list is a symptom present in the medical history text below \\\n",
    "\n",
    "        {medical_history}\n",
    "\n",
    "        If a symptoms is mentioned, it must be associated with it must be present in the medical history above. \\\n",
    "        If no symptoms are found, output an empty list. \\\n",
    "\n",
    "        Only output the list of objects, with nothing else.\n",
    "        \"\"\"\n",
    "        user_message_1 = f\"\"\"What symptoms are present in the medical history?\"\"\"\n",
    "\n",
    "        messages =  [  \n",
    "        {'role':'system', \n",
    "        'content': system_message},    \n",
    "        {'role':'user', \n",
    "        'content': f\"{delimiter}{user_message_1}{delimiter}\"},  \n",
    "        ] \n",
    "\n",
    "        response = get_completion_from_messages(messages)\n",
    "\n",
    "        response = response.strip('[]')\n",
    "        response = response.split(', ')\n",
    "        response = [symptom.strip(\"'\") for symptom in response]\n",
    "\n",
    "        for symptom in response:\n",
    "            question = f\"{symptom}. What symptoms in the database are present in the previous sentence?\"\n",
    "            docs = vectordb.max_marginal_relevance_search(question,k=k_number, fetch_k=10)\n",
    "            for i in range(k_number):\n",
    "                text = docs[i].page_content\n",
    "                lines = text.split('\\n')\n",
    "                for line in lines:\n",
    "                    if line.startswith('id:') and line!= 'id: id':\n",
    "                        symptom_id = line.split(': ', 1)[1]\n",
    "                        symptom_id_list.append(int(symptom_id))\n",
    "                    if line.startswith('symptom:') and line != 'symptom: symptom':\n",
    "                        symptom = line.split(': ', 1)[1]\n",
    "                        symptom_list.append(symptom)\n",
    "\n",
    "    #create a dictionary of the two\n",
    "    symptom_dict = {symptom_id_list[i]: symptom_list[i] for i in range(len(symptom_list))}\n",
    "                \n",
    "    return symptom_dict"
   ]
  },
  {
   "cell_type": "code",
   "execution_count": 327,
   "metadata": {},
   "outputs": [],
   "source": [
    "symptom_list = run_updated(cleaned_sentences)"
   ]
  },
  {
   "cell_type": "code",
   "execution_count": 328,
   "metadata": {},
   "outputs": [
    {
     "data": {
      "text/plain": [
       "{263: 'swelling of abdomen',\n",
       " 4347: 'swells',\n",
       " 1504: 'Family history of swelling',\n",
       " 1109: 'Pain of knee region',\n",
       " 4646: 'Posterior knee pain',\n",
       " 4424: 'Anterior knee pain',\n",
       " 2438: 'Fevers (fever that comes and goes)',\n",
       " 3317: 'Fever of unknown origin',\n",
       " 18: 'Febrile',\n",
       " 4389: 'No fever',\n",
       " 2822: 'body temperature low',\n",
       " 50: 'feeling unwell',\n",
       " 2653: 'Myelitis',\n",
       " 1469: 'injecting drug',\n",
       " 2745: 'Personal history of drug therapy',\n",
       " 1301: 'Drug addiction',\n",
       " 324: 'Cocaine user',\n",
       " 142: 'reported a history of cancer',\n",
       " 698: 'Detail of history of travel',\n",
       " 650: 'Personal history of urinary tract infection',\n",
       " 4419: 'No age 51 to 99',\n",
       " 265: 'History of - alcoholism (context-dependent category)',\n",
       " 1495: 'Dermal erythema',\n",
       " 3892: 'Erythrocythaemia',\n",
       " 1774: 'Erythroderma',\n",
       " 3224: 'Figurate erythema',\n",
       " 3734: 'flushed hot',\n",
       " 401: 'Joint inflammation',\n",
       " 1431: 'Ultrasound examination of joint',\n",
       " 4217: 'Joint tenderness.',\n",
       " 1276: 'Finding of joint swelling (finding)',\n",
       " 450: 'Range of joint movement reduced',\n",
       " 2923: 'Shoulder motion: severely limited.',\n",
       " 505: 'Limitation of spinal mobility',\n",
       " 4429: 'Knee pain with prolonged sitting.',\n",
       " 3984: 'DAT',\n",
       " 2379: 'Macules and/or patches',\n",
       " 164: 'The runs',\n",
       " 4662: 'activity',\n",
       " 3767: 'stretch marks',\n",
       " 4590: 'Anconeal bursa',\n",
       " 4686: 'Tenderness in popliteal fossa',\n",
       " 3022: 'Pain or tenderness on palpation of bicipital groove',\n",
       " 734: 'Retro-orbital pain',\n",
       " 1190: 'Pain in elbow',\n",
       " 126: 'joint pain',\n",
       " 4471: 'joint symptom',\n",
       " 4218: 'Multiple joint pain',\n",
       " 33: 'Leukocytosis',\n",
       " 2824: 'neutrofilia',\n",
       " 390: 'Eosinophilic leukocytosis',\n",
       " 3713: 'Increased leukocyte count in CSF',\n",
       " 437: 'Decreased blood leukocyte number',\n",
       " 862: 'Low neutrophil count',\n",
       " 2705: 'Neutrophils > 7000'}"
      ]
     },
     "execution_count": 328,
     "metadata": {},
     "output_type": "execute_result"
    }
   ],
   "source": [
    "symptom_list"
   ]
  },
  {
   "cell_type": "code",
   "execution_count": null,
   "metadata": {},
   "outputs": [],
   "source": []
  }
 ],
 "metadata": {
  "kernelspec": {
   "display_name": "knidianmd",
   "language": "python",
   "name": "python3"
  },
  "language_info": {
   "codemirror_mode": {
    "name": "ipython",
    "version": 3
   },
   "file_extension": ".py",
   "mimetype": "text/x-python",
   "name": "python",
   "nbconvert_exporter": "python",
   "pygments_lexer": "ipython3",
   "version": "3.10.14"
  }
 },
 "nbformat": 4,
 "nbformat_minor": 2
}
