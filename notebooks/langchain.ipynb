{
 "cells": [
  {
   "cell_type": "markdown",
   "metadata": {},
   "source": [
    "## Document Loading"
   ]
  },
  {
   "cell_type": "code",
   "execution_count": 1,
   "metadata": {},
   "outputs": [],
   "source": [
    "from langchain_community.document_loaders.csv_loader import CSVLoader"
   ]
  },
  {
   "cell_type": "code",
   "execution_count": 2,
   "metadata": {},
   "outputs": [],
   "source": [
    "loader = CSVLoader(\n",
    "    file_path=\"/Users/mansipandya/Desktop/KnidianMD/data/symptoms_db.csv\",\n",
    "    csv_args={\n",
    "        \"delimiter\": \",\",\n",
    "        \"quotechar\": '\"',\n",
    "        \"fieldnames\": [\"id\", \"symptom\"],\n",
    "    },\n",
    ")\n",
    "data = loader.load()"
   ]
  },
  {
   "cell_type": "code",
   "execution_count": 3,
   "metadata": {},
   "outputs": [
    {
     "data": {
      "text/plain": [
       "[Document(page_content='id: id\\nsymptom: symptom', metadata={'source': '/Users/mansipandya/Desktop/KnidianMD/data/symptoms_db.csv', 'row': 0}),\n",
       " Document(page_content='id: 1\\nsymptom: Family history of ankylosing spondylitis', metadata={'source': '/Users/mansipandya/Desktop/KnidianMD/data/symptoms_db.csv', 'row': 1}),\n",
       " Document(page_content='id: 2\\nsymptom: tummy ache', metadata={'source': '/Users/mansipandya/Desktop/KnidianMD/data/symptoms_db.csv', 'row': 2}),\n",
       " Document(page_content='id: 2\\nsymptom: hurt in belly', metadata={'source': '/Users/mansipandya/Desktop/KnidianMD/data/symptoms_db.csv', 'row': 3}),\n",
       " Document(page_content='id: 2\\nsymptom: pain in belly', metadata={'source': '/Users/mansipandya/Desktop/KnidianMD/data/symptoms_db.csv', 'row': 4})]"
      ]
     },
     "execution_count": 3,
     "metadata": {},
     "output_type": "execute_result"
    }
   ],
   "source": [
    "data[:5]"
   ]
  },
  {
   "cell_type": "markdown",
   "metadata": {},
   "source": [
    "## Document Splitting"
   ]
  },
  {
   "cell_type": "markdown",
   "metadata": {},
   "source": [
    "Since each row in the csv as a seperate entity in the vector database, splitting might not be required and I can move on to Vector Stores and Embedding."
   ]
  },
  {
   "cell_type": "markdown",
   "metadata": {},
   "source": [
    "## Vector Stores and Embedding"
   ]
  },
  {
   "cell_type": "code",
   "execution_count": 12,
   "metadata": {},
   "outputs": [],
   "source": [
    "import getpass\n",
    "import os\n",
    "\n",
    "os.environ[\"OPENAI_API_KEY\"] = getpass.getpass()"
   ]
  },
  {
   "cell_type": "code",
   "execution_count": 13,
   "metadata": {},
   "outputs": [],
   "source": [
    "from langchain_openai import OpenAIEmbeddings\n",
    "\n",
    "embedding = OpenAIEmbeddings()"
   ]
  },
  {
   "cell_type": "code",
   "execution_count": 20,
   "metadata": {},
   "outputs": [],
   "source": [
    "from langchain_community.vectorstores import Chroma\n",
    "\n",
    "persist_directory = '/Users/mansipandya/Desktop/KnidianMD/docs/chroma'\n",
    "\n",
    "# Create the vector store\n",
    "vectordb = Chroma.from_documents(\n",
    "    documents=data,\n",
    "    embedding=embedding,\n",
    "    persist_directory=persist_directory\n",
    ")"
   ]
  },
  {
   "cell_type": "code",
   "execution_count": 21,
   "metadata": {},
   "outputs": [
    {
     "name": "stdout",
     "output_type": "stream",
     "text": [
      "12066\n"
     ]
    }
   ],
   "source": [
    "print(vectordb._collection.count())"
   ]
  },
  {
   "cell_type": "code",
   "execution_count": 39,
   "metadata": {},
   "outputs": [],
   "source": [
    "vectordb.persist()"
   ]
  },
  {
   "cell_type": "code",
   "execution_count": 40,
   "metadata": {},
   "outputs": [],
   "source": [
    "vectordb = None"
   ]
  },
  {
   "cell_type": "code",
   "execution_count": 61,
   "metadata": {},
   "outputs": [],
   "source": [
    "vectordb = Chroma(persist_directory=persist_directory, embedding_function=embedding)"
   ]
  },
  {
   "cell_type": "markdown",
   "metadata": {},
   "source": [
    "## Retrieval"
   ]
  },
  {
   "cell_type": "code",
   "execution_count": 70,
   "metadata": {},
   "outputs": [],
   "source": [
    "question = \"A 24-year-old woman presents with acute swelling in her right knee, pain that hinders her ability to bear weight on her right leg, and a one-week history of intermittent low-grade fevers and malaise. What symptoms in the database present in this sentence?\"\n",
    "docs = vectordb.max_marginal_relevance_search(question,k=5, fetch_k=10)"
   ]
  },
  {
   "cell_type": "code",
   "execution_count": 102,
   "metadata": {},
   "outputs": [
    {
     "data": {
      "text/plain": [
       "[Document(page_content='id: 4658\\nsymptom: knee tenderness with swelling suprapatellar bilateral', metadata={'row': 11969, 'source': '/Users/mansipandya/Desktop/KnidianMD/data/symptoms_db.csv'}),\n",
       " Document(page_content='id: 1109\\nsymptom: Pain of knee region', metadata={'row': 3234, 'source': '/Users/mansipandya/Desktop/KnidianMD/data/symptoms_db.csv'}),\n",
       " Document(page_content='id: 4429\\nsymptom: Knee pain with prolonged sitting.', metadata={'row': 11105, 'source': '/Users/mansipandya/Desktop/KnidianMD/data/symptoms_db.csv'}),\n",
       " Document(page_content='id: 1276\\nsymptom: Finding of joint swelling', metadata={'row': 3651, 'source': '/Users/mansipandya/Desktop/KnidianMD/data/symptoms_db.csv'}),\n",
       " Document(page_content='id: 4431\\nsymptom: Tenderness of knee joint.', metadata={'row': 11107, 'source': '/Users/mansipandya/Desktop/KnidianMD/data/symptoms_db.csv'})]"
      ]
     },
     "execution_count": 102,
     "metadata": {},
     "output_type": "execute_result"
    }
   ],
   "source": [
    "docs"
   ]
  },
  {
   "cell_type": "markdown",
   "metadata": {},
   "source": [
    "## Preprocessing the Input Questions"
   ]
  },
  {
   "cell_type": "code",
   "execution_count": 91,
   "metadata": {},
   "outputs": [],
   "source": [
    "import pandas as pd\n",
    "import re\n",
    "import nltk\n",
    "from nltk.corpus import stopwords"
   ]
  },
  {
   "cell_type": "code",
   "execution_count": 92,
   "metadata": {},
   "outputs": [
    {
     "name": "stderr",
     "output_type": "stream",
     "text": [
      "[nltk_data] Downloading package stopwords to\n",
      "[nltk_data]     /Users/mansipandya/nltk_data...\n",
      "[nltk_data]   Package stopwords is already up-to-date!\n"
     ]
    }
   ],
   "source": [
    "nltk.download('stopwords')\n",
    "stop_words = set(stopwords.words('english'))\n",
    "stop_words.discard('no')"
   ]
  },
  {
   "cell_type": "code",
   "execution_count": 93,
   "metadata": {},
   "outputs": [],
   "source": [
    "df = pd.read_csv('/Users/mansipandya/Desktop/KnidianMD/data/test_cases.csv')\n",
    "original_text = df.iloc[0].medical_history\n",
    "original = df.iloc[0].medical_history.lower() \n",
    "pattern = r'\\b\\d+(\\.\\d+)?\\s*\\w+/\\w+\\b'\n",
    "original = re.sub(pattern, '.', original)\n",
    "original = original.replace('-', ' ')\n",
    "original = ''.join(char for char in original if char.isalpha() or char.isspace() or char == '.')\n",
    "words = original.split()\n",
    "filtered_words = [word for word in words if word not in stop_words]\n",
    "cleaned_text = ' '.join(filtered_words)\n",
    "sentences = cleaned_text.split('.')\n",
    "cleaned_sentences = [sentence.strip() for sentence in sentences]"
   ]
  },
  {
   "cell_type": "markdown",
   "metadata": {},
   "source": [
    "## Function to Deal with entire Input Text"
   ]
  },
  {
   "cell_type": "code",
   "execution_count": 94,
   "metadata": {},
   "outputs": [
    {
     "data": {
      "text/plain": [
       "['year old woman presents acute swelling right knee pain hinders ability bear weight right leg one week history intermittent low grade fevers malaise',\n",
       " 'history daily heroin use otherwise healthy',\n",
       " 'reports no recent sexual activity',\n",
       " 'examination right knee erythematous hot obvious joint effusion',\n",
       " 'limited minimal range motion knee',\n",
       " 'track marks antecubital fossae',\n",
       " 'joint aspiration shows leukocyte count cells per mm neutrophils',\n",
       " '']"
      ]
     },
     "execution_count": 94,
     "metadata": {},
     "output_type": "execute_result"
    }
   ],
   "source": [
    "cleaned_sentences"
   ]
  },
  {
   "cell_type": "code",
   "execution_count": 119,
   "metadata": {},
   "outputs": [],
   "source": [
    "def run(sentences):\n",
    "    symptom_list = []\n",
    "    k_number=5\n",
    "    for sentence in sentences:\n",
    "        if sentence == ' ':\n",
    "            continue\n",
    "        question = f\"{sentence}. What symptoms in the database present in this sentence?\"\n",
    "        docs = vectordb.max_marginal_relevance_search(question,k=k_number, fetch_k=10)\n",
    "        print(f\"Following Symptoms are for Sentence: {sentence}\")\n",
    "        for i in range(k_number):\n",
    "            text = docs[i].page_content\n",
    "            lines = text.split('\\n')\n",
    "            for line in lines:\n",
    "                if line.startswith('symptom:'):\n",
    "                    symptom = line.split(': ', 1)[1]\n",
    "                    print(symptom)\n",
    "                    symptom_list.append(symptom)\n",
    "                \n",
    "    return symptom_list"
   ]
  },
  {
   "cell_type": "code",
   "execution_count": 120,
   "metadata": {},
   "outputs": [
    {
     "name": "stdout",
     "output_type": "stream",
     "text": [
      "Following Symptoms are for Sentence: year old woman presents acute swelling right knee pain hinders ability bear weight right leg one week history intermittent low grade fevers malaise\n",
      "Pain of knee region\n",
      "knee tenderness with swelling suprapatellar bilateral\n",
      "Superior unilateral or bilateral knee joint pain\n",
      "Arthralgia of knee\n",
      "knees aching\n",
      "Following Symptoms are for Sentence: history daily heroin use otherwise healthy\n",
      "Personal history of drug therapy\n",
      "injecting drug\n",
      "Drug UserIntravenous\n",
      "History of - alcoholism (context-dependent category)\n",
      "Drug addiction\n",
      "Following Symptoms are for Sentence: reports no recent sexual activity\n",
      "High risk sexual behavior\n",
      "decreased sexual interest (symptom)\n",
      "Unsafe sexual practices\n",
      "Sexual Dysfunction\n",
      "bleeding after sexual intercourse\n",
      "Following Symptoms are for Sentence: examination right knee erythematous hot obvious joint effusion\n",
      "Tenderness of knee joint.\n",
      "Tenderness on palpation of suprapatellar region of both knees with swelling\n",
      "stiffness of knee joint (diagnosis)\n",
      "Skin of the knee\n",
      "Arthralgia of knee\n",
      "Following Symptoms are for Sentence: limited minimal range motion knee\n",
      "limited motion of range\n",
      "Range of joint movement reduced\n",
      "Limitation of joint movement\n",
      "Hip limite range of motion\n",
      "stiffness of knee joint (diagnosis)\n",
      "Following Symptoms are for Sentence: track marks antecubital fossae\n",
      "Pain or tenderness on palpation of bicipital groove\n",
      "Tarsus\n",
      "Anconeal bursa\n",
      "Orthopedic Disorder\n",
      "Skin of the elbows\n",
      "Following Symptoms are for Sentence: joint aspiration shows leukocyte count cells per mm neutrophils\n",
      "neutrophilic leukocytosis\n",
      "Increased leukocyte count in CSF\n",
      "Decreased blood leukocyte number\n",
      "Bronchoalveolar lavage with neutophils\n",
      "Leucocytes: normal\n",
      "Following Symptoms are for Sentence: \n",
      "symptom\n",
      "String test\n",
      "Neurologic symptoms\n",
      "Losing words\n",
      "The change\n"
     ]
    }
   ],
   "source": [
    "symptom_list = run(cleaned_sentences)"
   ]
  },
  {
   "cell_type": "code",
   "execution_count": 118,
   "metadata": {},
   "outputs": [
    {
     "data": {
      "text/plain": [
       "['Pain of knee region',\n",
       " 'knee tenderness with swelling suprapatellar bilateral',\n",
       " 'Superior unilateral or bilateral knee joint pain',\n",
       " 'Aching in knees',\n",
       " 'Arthralgia (knee)',\n",
       " 'Personal history of drug therapy',\n",
       " 'injecting drug',\n",
       " 'Drug UserIntravenous',\n",
       " 'History of - alcoholism (context-dependent category)',\n",
       " 'Drug addiction',\n",
       " 'High risk sexual behavior',\n",
       " 'decreased sexual interest (symptom)',\n",
       " 'Unsafe sexual practices',\n",
       " 'Sexual Dysfunction',\n",
       " 'bleeding after sexual intercourse',\n",
       " 'Tenderness of knee joint.',\n",
       " 'Tenderness on palpation of suprapatellar region of both knees with swelling',\n",
       " 'stiffness of knee joint (diagnosis)',\n",
       " 'Skin of the knee',\n",
       " 'Arthralgia of knee',\n",
       " 'limited motion of range',\n",
       " 'Range of joint movement reduced',\n",
       " 'Limitation of joint movement',\n",
       " 'Hip limite range of motion',\n",
       " 'stiffness of knee joint (diagnosis)',\n",
       " 'Pain or tenderness on palpation of bicipital groove',\n",
       " 'Tarsus',\n",
       " 'Anconeal bursa',\n",
       " 'Orthopedic Disorder',\n",
       " 'Skin of the elbows',\n",
       " 'neutrophilic leukocytosis',\n",
       " 'Increased leukocyte count in CSF',\n",
       " 'Decreased blood leukocyte number',\n",
       " 'Bronchoalveolar lavage with neutophils',\n",
       " 'Leucocytes: normal',\n",
       " 'symptom',\n",
       " 'String test',\n",
       " 'Neurologic symptoms',\n",
       " 'Losing words',\n",
       " 'The change']"
      ]
     },
     "execution_count": 118,
     "metadata": {},
     "output_type": "execute_result"
    }
   ],
   "source": [
    "symptom_list"
   ]
  },
  {
   "cell_type": "code",
   "execution_count": null,
   "metadata": {},
   "outputs": [],
   "source": []
  }
 ],
 "metadata": {
  "kernelspec": {
   "display_name": "knidianmd",
   "language": "python",
   "name": "python3"
  },
  "language_info": {
   "codemirror_mode": {
    "name": "ipython",
    "version": 3
   },
   "file_extension": ".py",
   "mimetype": "text/x-python",
   "name": "python",
   "nbconvert_exporter": "python",
   "pygments_lexer": "ipython3",
   "version": "3.12.1"
  }
 },
 "nbformat": 4,
 "nbformat_minor": 2
}
