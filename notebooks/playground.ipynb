{
 "cells": [
  {
   "cell_type": "code",
   "execution_count": 3,
   "metadata": {},
   "outputs": [],
   "source": [
    "import pandas as pd\n",
    "import numpy as np\n",
    "import matplotlib.pyplot as plt"
   ]
  },
  {
   "cell_type": "code",
   "execution_count": 3,
   "metadata": {},
   "outputs": [],
   "source": [
    "df = pd.read_csv('/Users/mansipandya/Desktop/KnidianMD/data/test_cases.csv')"
   ]
  },
  {
   "cell_type": "code",
   "execution_count": 4,
   "metadata": {},
   "outputs": [],
   "source": [
    "y_truth = df['symptoms'].apply(lambda x: x.split(', ')).tolist()[0]"
   ]
  },
  {
   "cell_type": "code",
   "execution_count": 5,
   "metadata": {},
   "outputs": [
    {
     "data": {
      "text/plain": [
       "['(1276 joint swelling)',\n",
       " '(2438 fever)',\n",
       " '(50 malaise)',\n",
       " '(1469 Intravenous drug user)',\n",
       " '(4226 knee arthritis)',\n",
       " '(450 limited motion of range) ',\n",
       " '(1320 Synovial fluid cell count high over 2000 ul)']"
      ]
     },
     "execution_count": 5,
     "metadata": {},
     "output_type": "execute_result"
    }
   ],
   "source": [
    "y_truth"
   ]
  },
  {
   "cell_type": "code",
   "execution_count": 6,
   "metadata": {},
   "outputs": [
    {
     "name": "stdout",
     "output_type": "stream",
     "text": [
      "{1276: 'joint swelling', 2438: 'fever', 50: 'malaise', 1469: 'Intravenous drug user', 4226: 'knee arthritis', 450: 'limited motion of range', 1320: 'Synovial fluid cell count high over 2000 ul'}\n"
     ]
    }
   ],
   "source": [
    "import re\n",
    "\n",
    "# Regular expression pattern to extract the number and description\n",
    "pattern = r'\\((\\d+) (\\w+(\\s\\w+)*)\\)'\n",
    "\n",
    "# Initialize an empty dictionary\n",
    "result_dict = {}\n",
    "\n",
    "# Iterate over the list of strings\n",
    "for item in y_truth:\n",
    "    # Extract number and description using regular expression\n",
    "    match = re.match(pattern, item)\n",
    "    if match:\n",
    "        number = int(match.group(1))\n",
    "        description = match.group(2)\n",
    "        # Add to dictionary\n",
    "        result_dict[number] = description\n",
    "\n",
    "print(result_dict)"
   ]
  },
  {
   "cell_type": "code",
   "execution_count": 8,
   "metadata": {},
   "outputs": [],
   "source": [
    "keys_to_slice = list(result_dict.keys())[:5]"
   ]
  },
  {
   "cell_type": "code",
   "execution_count": 9,
   "metadata": {},
   "outputs": [
    {
     "data": {
      "text/plain": [
       "[1276, 2438, 50, 1469, 4226]"
      ]
     },
     "execution_count": 9,
     "metadata": {},
     "output_type": "execute_result"
    }
   ],
   "source": [
    "keys_to_slice"
   ]
  },
  {
   "cell_type": "code",
   "execution_count": 12,
   "metadata": {},
   "outputs": [],
   "source": [
    "sliced_dict = {key: result_dict[key] for key in keys_to_slice}"
   ]
  },
  {
   "cell_type": "code",
   "execution_count": 13,
   "metadata": {},
   "outputs": [
    {
     "data": {
      "text/plain": [
       "{1276: 'joint swelling',\n",
       " 2438: 'fever',\n",
       " 50: 'malaise',\n",
       " 1469: 'Intravenous drug user',\n",
       " 4226: 'knee arthritis'}"
      ]
     },
     "execution_count": 13,
     "metadata": {},
     "output_type": "execute_result"
    }
   ],
   "source": [
    "sliced_dict"
   ]
  },
  {
   "cell_type": "code",
   "execution_count": 14,
   "metadata": {},
   "outputs": [],
   "source": [
    "keys_set = set(sliced_dict.keys())"
   ]
  },
  {
   "cell_type": "code",
   "execution_count": 15,
   "metadata": {},
   "outputs": [
    {
     "data": {
      "text/plain": [
       "{50, 1276, 1469, 2438, 4226}"
      ]
     },
     "execution_count": 15,
     "metadata": {},
     "output_type": "execute_result"
    }
   ],
   "source": [
    "keys_set"
   ]
  },
  {
   "cell_type": "code",
   "execution_count": 16,
   "metadata": {},
   "outputs": [],
   "source": [
    "lc_dict = {'1109': 'Pain;musculoskeletal;knee', '4658': 'Tenderness on palpation of suprapatellar region of both knees with swelling', '4657': 'Superior unilateral or bilateral knee joint pain', '2745': 'Personal history of drug therapy', '1469': 'Drug UserIntravenous', '265': 'History of - alcoholism (context-dependent category)', '1301': 'Drug addiction', '306': 'sexual; arousal decreased', '262': 'sexual impotence', '4431': 'Tenderness of knee joint.', '4432': 'Knee stiffness', '3720': 'Skin of the knee', '4226': 'arthritis knee', '3022': 'Pain or tenderness on palpation of bicipital groove', '3807': 'Tarsus', '4599': 'soft tissue pain in lateral surface of left elbow', '4590': 'Structure of bursa of olecranon', '3912': 'Underdeveloped outer large forearm bone', '2824': 'neutrophilic leukocytosis', '3713': 'Increased leukocyte count in CSF', '437': 'Decreased blood leukocyte number', '2204': 'Bronchoalveolar lavage with neutophils', '1174': 'Urinalysis with microscope  with >5 leucocytes', 'id': 'symptom', '394': 'String test', '3234': 'Prodromal Symptoms', '4680': 'Memory Deficits.', '1029': 'Losing words'}"
   ]
  },
  {
   "cell_type": "code",
   "execution_count": 18,
   "metadata": {},
   "outputs": [
    {
     "name": "stdout",
     "output_type": "stream",
     "text": [
      "0\n"
     ]
    }
   ],
   "source": [
    "keys_set1 = set(result_dict.keys())\n",
    "keys_set2 = set(lc_dict.keys())\n",
    "\n",
    "overlap = len(keys_set1.intersection(keys_set2))\n",
    "\n",
    "print(overlap)"
   ]
  },
  {
   "cell_type": "markdown",
   "metadata": {},
   "source": [
    "# Taking in multiple medical history texts"
   ]
  },
  {
   "cell_type": "code",
   "execution_count": 10,
   "metadata": {},
   "outputs": [
    {
     "name": "stderr",
     "output_type": "stream",
     "text": [
      "[nltk_data] Downloading package stopwords to\n",
      "[nltk_data]     /Users/mansipandya/nltk_data...\n",
      "[nltk_data]   Package stopwords is already up-to-date!\n"
     ]
    }
   ],
   "source": [
    "import nltk\n",
    "from nltk.corpus import stopwords\n",
    "import re\n",
    "\n",
    "nltk.download('stopwords')\n",
    "stop_words = set(stopwords.words('english'))\n",
    "stop_words.discard('no')"
   ]
  },
  {
   "cell_type": "code",
   "execution_count": 97,
   "metadata": {},
   "outputs": [],
   "source": [
    "text = \"A 24-year-old woman presents with acute swelling in her right knee, pain that hinders her ability to bear weight on her right leg, and a one-week history of intermittent low-grade fevers and malaise. She has a history of daily heroin use but is otherwise healthy. She reports no recent sexual activity. On examination, her right knee is erythematous and hot, with an obvious joint effusion. She has limited and minimal range of motion of the knee. She has track marks over both antecubital fossae. Joint aspiration shows a leukocyte count of 132,000 cells per mm3 with 95% neutrophils.\"\n"
   ]
  },
  {
   "cell_type": "code",
   "execution_count": 8,
   "metadata": {},
   "outputs": [],
   "source": [
    "def preprocess_medical_history(text,stop_words):\n",
    "    original_text = text\n",
    "    original = text.lower() \n",
    "    pattern = r'\\b\\d+(\\.\\d+)?\\s*\\w+/\\w+\\b'\n",
    "    original = re.sub(pattern, '.', original)\n",
    "    original = original.replace('-', ' ')\n",
    "    original = ''.join(char for char in original if char.isalpha() or char.isspace() or char == '.')\n",
    "    words = original.split()\n",
    "    filtered_words = [word for word in words if word not in stop_words]\n",
    "    cleaned_text = ' '.join(filtered_words)\n",
    "    sentences = cleaned_text.split('.')\n",
    "    cleaned_sentences = [sentence.strip() for sentence in sentences]\n",
    "    return cleaned_sentences,original_text"
   ]
  },
  {
   "cell_type": "code",
   "execution_count": 99,
   "metadata": {},
   "outputs": [],
   "source": [
    "cleaned_sentences,original_text = preprocess_medical_history(text,stop_words)"
   ]
  },
  {
   "cell_type": "code",
   "execution_count": 100,
   "metadata": {},
   "outputs": [
    {
     "data": {
      "text/plain": [
       "['year old woman presents acute swelling right knee pain hinders ability bear weight right leg one week history intermittent low grade fevers malaise',\n",
       " 'history daily heroin use otherwise healthy',\n",
       " 'reports no recent sexual activity',\n",
       " 'examination right knee erythematous hot obvious joint effusion',\n",
       " 'limited minimal range motion knee',\n",
       " 'track marks antecubital fossae',\n",
       " 'joint aspiration shows leukocyte count cells per mm neutrophils',\n",
       " '']"
      ]
     },
     "execution_count": 100,
     "metadata": {},
     "output_type": "execute_result"
    }
   ],
   "source": [
    "cleaned_sentences"
   ]
  },
  {
   "cell_type": "code",
   "execution_count": 3,
   "metadata": {},
   "outputs": [],
   "source": [
    "df = pd.read_csv('/Users/mansipandya/Desktop/KnidianMD/data/test_cases.csv')"
   ]
  },
  {
   "cell_type": "code",
   "execution_count": 12,
   "metadata": {},
   "outputs": [],
   "source": [
    "df['Processed_Medical_History'] = df['medical_history'].apply(preprocess_medical_history, stop_words=stop_words)"
   ]
  },
  {
   "cell_type": "code",
   "execution_count": 14,
   "metadata": {},
   "outputs": [
    {
     "data": {
      "text/html": [
       "<div>\n",
       "<style scoped>\n",
       "    .dataframe tbody tr th:only-of-type {\n",
       "        vertical-align: middle;\n",
       "    }\n",
       "\n",
       "    .dataframe tbody tr th {\n",
       "        vertical-align: top;\n",
       "    }\n",
       "\n",
       "    .dataframe thead th {\n",
       "        text-align: right;\n",
       "    }\n",
       "</style>\n",
       "<table border=\"1\" class=\"dataframe\">\n",
       "  <thead>\n",
       "    <tr style=\"text-align: right;\">\n",
       "      <th></th>\n",
       "      <th>medical_history</th>\n",
       "      <th>symptoms</th>\n",
       "      <th>Processed_Medical_History</th>\n",
       "    </tr>\n",
       "  </thead>\n",
       "  <tbody>\n",
       "    <tr>\n",
       "      <th>0</th>\n",
       "      <td>A 24-year-old woman presents with acute swelli...</td>\n",
       "      <td>(1276 joint swelling), (2438 fever), (50 malai...</td>\n",
       "      <td>([year old woman presents acute swelling right...</td>\n",
       "    </tr>\n",
       "    <tr>\n",
       "      <th>1</th>\n",
       "      <td>A 12-year-old girl presents with sudden-onset ...</td>\n",
       "      <td>(4334 Generalized abdominal pain), (1047 Nause...</td>\n",
       "      <td>([year old girl presents sudden onset severe g...</td>\n",
       "    </tr>\n",
       "  </tbody>\n",
       "</table>\n",
       "</div>"
      ],
      "text/plain": [
       "                                     medical_history  \\\n",
       "0  A 24-year-old woman presents with acute swelli...   \n",
       "1  A 12-year-old girl presents with sudden-onset ...   \n",
       "\n",
       "                                            symptoms  \\\n",
       "0  (1276 joint swelling), (2438 fever), (50 malai...   \n",
       "1  (4334 Generalized abdominal pain), (1047 Nause...   \n",
       "\n",
       "                           Processed_Medical_History  \n",
       "0  ([year old woman presents acute swelling right...  \n",
       "1  ([year old girl presents sudden onset severe g...  "
      ]
     },
     "execution_count": 14,
     "metadata": {},
     "output_type": "execute_result"
    }
   ],
   "source": [
    "df"
   ]
  },
  {
   "cell_type": "code",
   "execution_count": 110,
   "metadata": {},
   "outputs": [
    {
     "data": {
      "text/plain": [
       "['year old girl presents sudden onset severe generalized abdominal pain associated nausea vomiting diarrhea',\n",
       " 'exam appears ill temperature f c',\n",
       " 'abdomen tense generalized tenderness guarding',\n",
       " 'no bowel sounds present',\n",
       " '']"
      ]
     },
     "execution_count": 110,
     "metadata": {},
     "output_type": "execute_result"
    }
   ],
   "source": [
    "df.iloc[1].Processed_Medical_History[0]"
   ]
  },
  {
   "cell_type": "markdown",
   "metadata": {},
   "source": [
    "# Evaluation"
   ]
  },
  {
   "cell_type": "code",
   "execution_count": 56,
   "metadata": {},
   "outputs": [],
   "source": [
    "loaded_df = pd.read_pickle('/Users/mansipandya/Desktop/KnidianMD/df_pickle.pkl')"
   ]
  },
  {
   "cell_type": "code",
   "execution_count": 57,
   "metadata": {},
   "outputs": [
    {
     "data": {
      "text/html": [
       "<div>\n",
       "<style scoped>\n",
       "    .dataframe tbody tr th:only-of-type {\n",
       "        vertical-align: middle;\n",
       "    }\n",
       "\n",
       "    .dataframe tbody tr th {\n",
       "        vertical-align: top;\n",
       "    }\n",
       "\n",
       "    .dataframe thead th {\n",
       "        text-align: right;\n",
       "    }\n",
       "</style>\n",
       "<table border=\"1\" class=\"dataframe\">\n",
       "  <thead>\n",
       "    <tr style=\"text-align: right;\">\n",
       "      <th></th>\n",
       "      <th>medical_history</th>\n",
       "      <th>symptoms</th>\n",
       "      <th>Processed_Medical_History</th>\n",
       "      <th>traditional</th>\n",
       "      <th>traditional_ss</th>\n",
       "      <th>langchain</th>\n",
       "    </tr>\n",
       "  </thead>\n",
       "  <tbody>\n",
       "    <tr>\n",
       "      <th>0</th>\n",
       "      <td>A 24-year-old woman presents with acute swelli...</td>\n",
       "      <td>{1276: 'joint swelling', 2438: 'fever', 50: 'm...</td>\n",
       "      <td>([year old woman presents acute swelling right...</td>\n",
       "      <td>{661: 'history of chronic recurrent pain; righ...</td>\n",
       "      <td>{450: 'limited motion of range', 1562: 'swelli...</td>\n",
       "      <td>{'1109': 'Pain;musculoskeletal;knee', '4658': ...</td>\n",
       "    </tr>\n",
       "    <tr>\n",
       "      <th>1</th>\n",
       "      <td>A 12-year-old girl presents with sudden-onset ...</td>\n",
       "      <td>{4334: 'Generalized abdominal pain', 1047: 'Na...</td>\n",
       "      <td>([year old girl presents sudden onset severe g...</td>\n",
       "      <td>{3953: 'cold arm of sudden onset?', 4334: 'gen...</td>\n",
       "      <td>{3772: 'no bowel sounds', 822: 'decreased bowe...</td>\n",
       "      <td>{'4334': 'Generalized abdominal pain', '412': ...</td>\n",
       "    </tr>\n",
       "  </tbody>\n",
       "</table>\n",
       "</div>"
      ],
      "text/plain": [
       "                                     medical_history  \\\n",
       "0  A 24-year-old woman presents with acute swelli...   \n",
       "1  A 12-year-old girl presents with sudden-onset ...   \n",
       "\n",
       "                                            symptoms  \\\n",
       "0  {1276: 'joint swelling', 2438: 'fever', 50: 'm...   \n",
       "1  {4334: 'Generalized abdominal pain', 1047: 'Na...   \n",
       "\n",
       "                           Processed_Medical_History  \\\n",
       "0  ([year old woman presents acute swelling right...   \n",
       "1  ([year old girl presents sudden onset severe g...   \n",
       "\n",
       "                                         traditional  \\\n",
       "0  {661: 'history of chronic recurrent pain; righ...   \n",
       "1  {3953: 'cold arm of sudden onset?', 4334: 'gen...   \n",
       "\n",
       "                                      traditional_ss  \\\n",
       "0  {450: 'limited motion of range', 1562: 'swelli...   \n",
       "1  {3772: 'no bowel sounds', 822: 'decreased bowe...   \n",
       "\n",
       "                                           langchain  \n",
       "0  {'1109': 'Pain;musculoskeletal;knee', '4658': ...  \n",
       "1  {'4334': 'Generalized abdominal pain', '412': ...  "
      ]
     },
     "execution_count": 57,
     "metadata": {},
     "output_type": "execute_result"
    }
   ],
   "source": [
    "loaded_df"
   ]
  },
  {
   "cell_type": "code",
   "execution_count": 58,
   "metadata": {},
   "outputs": [],
   "source": [
    "def calculate_precision(y_truth, y_pred):\n",
    "    set_truth = set(y_truth.keys())\n",
    "    set_pred = set(y_pred.keys())\n",
    "    true_positives = len(set_truth.intersection(set_pred))\n",
    "    false_positives = len(set_pred.difference(set_truth))\n",
    "    precision = true_positives / (true_positives + false_positives) if (true_positives + false_positives) > 0 else 0.0\n",
    "    return precision\n",
    "\n",
    "def calculate_recall(y_truth, y_pred):\n",
    "    set_truth = set(y_truth.keys())\n",
    "    set_pred = set(y_pred.keys())\n",
    "    true_positives = len(set_truth.intersection(set_pred))\n",
    "    false_negatives = len(set_truth.difference(set_pred))\n",
    "    recall = true_positives / (true_positives + false_negatives) if (true_positives + false_negatives) > 0 else 0.0\n",
    "    return recall\n",
    "\n",
    "def calculate_f1_score(precision,recall):\n",
    "    f1_score = 2 * (precision * recall) / (precision + recall) if (precision + recall) > 0 else 0\n",
    "    return f1_score"
   ]
  },
  {
   "cell_type": "code",
   "execution_count": 59,
   "metadata": {},
   "outputs": [],
   "source": [
    "def evaluate(y_truth, y_pred):\n",
    "    k_values = list(range(1, len(y_pred)+1))\n",
    "    precision_values, recall_values, f1_score_values = [], [], []\n",
    "    for k in k_values:\n",
    "        sliced_y_pred = {key: y_pred[key] for key in list(y_pred.keys())[:k]}\n",
    "        precision = calculate_precision(y_truth, sliced_y_pred)\n",
    "        precision_values.append(precision)\n",
    "        recall = calculate_recall(y_truth, sliced_y_pred)\n",
    "        recall_values.append(recall)\n",
    "        f1_score = calculate_f1_score(precision, recall)\n",
    "        f1_score_values.append(f1_score)\n",
    "    return precision_values, recall_values, f1_score_values\n"
   ]
  },
  {
   "cell_type": "code",
   "execution_count": 60,
   "metadata": {},
   "outputs": [],
   "source": [
    "loaded_df['precision_trad'], loaded_df['recall_trad'], loaded_df['f1_trad'] = zip(*loaded_df.apply(lambda row: evaluate(row['symptoms'], row['traditional']), axis=1))\n",
    "loaded_df['precision_trad_ss'], loaded_df['recall_trad_ss'], loaded_df['f1_trad_ss'] = zip(*loaded_df.apply(lambda row: evaluate(row['symptoms'], row['traditional_ss']), axis=1))\n",
    "loaded_df['precision_lang'], loaded_df['recall_lang'], loaded_df['f1_lang'] = zip(*loaded_df.apply(lambda row: evaluate(row['symptoms'], row['langchain']), axis=1))"
   ]
  },
  {
   "cell_type": "code",
   "execution_count": 70,
   "metadata": {},
   "outputs": [
    {
     "data": {
      "text/html": [
       "<div>\n",
       "<style scoped>\n",
       "    .dataframe tbody tr th:only-of-type {\n",
       "        vertical-align: middle;\n",
       "    }\n",
       "\n",
       "    .dataframe tbody tr th {\n",
       "        vertical-align: top;\n",
       "    }\n",
       "\n",
       "    .dataframe thead th {\n",
       "        text-align: right;\n",
       "    }\n",
       "</style>\n",
       "<table border=\"1\" class=\"dataframe\">\n",
       "  <thead>\n",
       "    <tr style=\"text-align: right;\">\n",
       "      <th></th>\n",
       "      <th>medical_history</th>\n",
       "      <th>symptoms</th>\n",
       "      <th>Processed_Medical_History</th>\n",
       "      <th>traditional</th>\n",
       "      <th>traditional_ss</th>\n",
       "      <th>langchain</th>\n",
       "      <th>precision_trad</th>\n",
       "      <th>recall_trad</th>\n",
       "      <th>f1_trad</th>\n",
       "      <th>precision_trad_ss</th>\n",
       "      <th>recall_trad_ss</th>\n",
       "      <th>f1_trad_ss</th>\n",
       "      <th>precision_lang</th>\n",
       "      <th>recall_lang</th>\n",
       "      <th>f1_lang</th>\n",
       "    </tr>\n",
       "  </thead>\n",
       "  <tbody>\n",
       "    <tr>\n",
       "      <th>0</th>\n",
       "      <td>A 24-year-old woman presents with acute swelli...</td>\n",
       "      <td>{1276: 'joint swelling', 2438: 'fever', 50: 'm...</td>\n",
       "      <td>([year old woman presents acute swelling right...</td>\n",
       "      <td>{661: 'history of chronic recurrent pain; righ...</td>\n",
       "      <td>{450: 'limited motion of range', 1562: 'swelli...</td>\n",
       "      <td>{'1109': 'Pain;musculoskeletal;knee', '4658': ...</td>\n",
       "      <td>[0.0, 0.0, 0.0, 0.0, 0.0, 0.0, 0.0, 0.0, 0.0, ...</td>\n",
       "      <td>[0.0, 0.0, 0.0, 0.0, 0.0, 0.0, 0.0, 0.0, 0.0, ...</td>\n",
       "      <td>[0, 0, 0, 0, 0, 0, 0, 0, 0, 0, 0.1111111111111...</td>\n",
       "      <td>[1.0, 0.5, 0.6666666666666666, 0.5, 0.6, 0.5, ...</td>\n",
       "      <td>[0.14285714285714285, 0.14285714285714285, 0.2...</td>\n",
       "      <td>[0.25, 0.22222222222222224, 0.4, 0.36363636363...</td>\n",
       "      <td>[0.0, 0.0, 0.0, 0.0, 0.0, 0.0, 0.0, 0.0, 0.0, ...</td>\n",
       "      <td>[0.0, 0.0, 0.0, 0.0, 0.0, 0.0, 0.0, 0.0, 0.0, ...</td>\n",
       "      <td>[0, 0, 0, 0, 0, 0, 0, 0, 0, 0, 0, 0, 0, 0, 0, ...</td>\n",
       "    </tr>\n",
       "    <tr>\n",
       "      <th>1</th>\n",
       "      <td>A 12-year-old girl presents with sudden-onset ...</td>\n",
       "      <td>{4334: 'Generalized abdominal pain', 1047: 'Na...</td>\n",
       "      <td>([year old girl presents sudden onset severe g...</td>\n",
       "      <td>{3953: 'cold arm of sudden onset?', 4334: 'gen...</td>\n",
       "      <td>{3772: 'no bowel sounds', 822: 'decreased bowe...</td>\n",
       "      <td>{'4334': 'Generalized abdominal pain', '412': ...</td>\n",
       "      <td>[0.0, 0.5, 0.6666666666666666, 0.75, 0.8, 0.83...</td>\n",
       "      <td>[0.0, 0.125, 0.25, 0.375, 0.5, 0.625, 0.75]</td>\n",
       "      <td>[0, 0.2, 0.36363636363636365, 0.5, 0.615384615...</td>\n",
       "      <td>[1.0, 0.5, 0.3333333333333333, 0.25, 0.4, 0.33...</td>\n",
       "      <td>[0.125, 0.125, 0.125, 0.125, 0.25, 0.25, 0.25,...</td>\n",
       "      <td>[0.2222222222222222, 0.2, 0.18181818181818182,...</td>\n",
       "      <td>[0.0, 0.0, 0.0, 0.0, 0.0, 0.0, 0.0, 0.0, 0.0, ...</td>\n",
       "      <td>[0.0, 0.0, 0.0, 0.0, 0.0, 0.0, 0.0, 0.0, 0.0, ...</td>\n",
       "      <td>[0, 0, 0, 0, 0, 0, 0, 0, 0, 0, 0, 0, 0, 0, 0, ...</td>\n",
       "    </tr>\n",
       "  </tbody>\n",
       "</table>\n",
       "</div>"
      ],
      "text/plain": [
       "                                     medical_history  \\\n",
       "0  A 24-year-old woman presents with acute swelli...   \n",
       "1  A 12-year-old girl presents with sudden-onset ...   \n",
       "\n",
       "                                            symptoms  \\\n",
       "0  {1276: 'joint swelling', 2438: 'fever', 50: 'm...   \n",
       "1  {4334: 'Generalized abdominal pain', 1047: 'Na...   \n",
       "\n",
       "                           Processed_Medical_History  \\\n",
       "0  ([year old woman presents acute swelling right...   \n",
       "1  ([year old girl presents sudden onset severe g...   \n",
       "\n",
       "                                         traditional  \\\n",
       "0  {661: 'history of chronic recurrent pain; righ...   \n",
       "1  {3953: 'cold arm of sudden onset?', 4334: 'gen...   \n",
       "\n",
       "                                      traditional_ss  \\\n",
       "0  {450: 'limited motion of range', 1562: 'swelli...   \n",
       "1  {3772: 'no bowel sounds', 822: 'decreased bowe...   \n",
       "\n",
       "                                           langchain  \\\n",
       "0  {'1109': 'Pain;musculoskeletal;knee', '4658': ...   \n",
       "1  {'4334': 'Generalized abdominal pain', '412': ...   \n",
       "\n",
       "                                      precision_trad  \\\n",
       "0  [0.0, 0.0, 0.0, 0.0, 0.0, 0.0, 0.0, 0.0, 0.0, ...   \n",
       "1  [0.0, 0.5, 0.6666666666666666, 0.75, 0.8, 0.83...   \n",
       "\n",
       "                                         recall_trad  \\\n",
       "0  [0.0, 0.0, 0.0, 0.0, 0.0, 0.0, 0.0, 0.0, 0.0, ...   \n",
       "1        [0.0, 0.125, 0.25, 0.375, 0.5, 0.625, 0.75]   \n",
       "\n",
       "                                             f1_trad  \\\n",
       "0  [0, 0, 0, 0, 0, 0, 0, 0, 0, 0, 0.1111111111111...   \n",
       "1  [0, 0.2, 0.36363636363636365, 0.5, 0.615384615...   \n",
       "\n",
       "                                   precision_trad_ss  \\\n",
       "0  [1.0, 0.5, 0.6666666666666666, 0.5, 0.6, 0.5, ...   \n",
       "1  [1.0, 0.5, 0.3333333333333333, 0.25, 0.4, 0.33...   \n",
       "\n",
       "                                      recall_trad_ss  \\\n",
       "0  [0.14285714285714285, 0.14285714285714285, 0.2...   \n",
       "1  [0.125, 0.125, 0.125, 0.125, 0.25, 0.25, 0.25,...   \n",
       "\n",
       "                                          f1_trad_ss  \\\n",
       "0  [0.25, 0.22222222222222224, 0.4, 0.36363636363...   \n",
       "1  [0.2222222222222222, 0.2, 0.18181818181818182,...   \n",
       "\n",
       "                                      precision_lang  \\\n",
       "0  [0.0, 0.0, 0.0, 0.0, 0.0, 0.0, 0.0, 0.0, 0.0, ...   \n",
       "1  [0.0, 0.0, 0.0, 0.0, 0.0, 0.0, 0.0, 0.0, 0.0, ...   \n",
       "\n",
       "                                         recall_lang  \\\n",
       "0  [0.0, 0.0, 0.0, 0.0, 0.0, 0.0, 0.0, 0.0, 0.0, ...   \n",
       "1  [0.0, 0.0, 0.0, 0.0, 0.0, 0.0, 0.0, 0.0, 0.0, ...   \n",
       "\n",
       "                                             f1_lang  \n",
       "0  [0, 0, 0, 0, 0, 0, 0, 0, 0, 0, 0, 0, 0, 0, 0, ...  \n",
       "1  [0, 0, 0, 0, 0, 0, 0, 0, 0, 0, 0, 0, 0, 0, 0, ...  "
      ]
     },
     "execution_count": 70,
     "metadata": {},
     "output_type": "execute_result"
    }
   ],
   "source": [
    "loaded_df"
   ]
  },
  {
   "cell_type": "code",
   "execution_count": 85,
   "metadata": {},
   "outputs": [
    {
     "name": "stdout",
     "output_type": "stream",
     "text": [
      "[0.         0.25       0.33333333 0.375      0.4        0.41666667\n",
      " 0.42857143 0.         0.         0.         0.04545455]\n",
      "11\n"
     ]
    }
   ],
   "source": [
    "max_length = loaded_df['precision_trad'].apply(len).max()\n",
    "padded_lists = loaded_df['precision_trad'].apply(lambda x: x + [0] * (max_length - len(x)))\n",
    "average_list = np.mean(padded_lists.tolist(), axis=0)\n",
    "print(average_list)"
   ]
  },
  {
   "cell_type": "code",
   "execution_count": 86,
   "metadata": {},
   "outputs": [],
   "source": [
    "df_prf = pd.read_pickle('/Users/mansipandya/Desktop/KnidianMD/df_prf_pickle.pkl')"
   ]
  },
  {
   "cell_type": "code",
   "execution_count": 87,
   "metadata": {},
   "outputs": [
    {
     "data": {
      "text/html": [
       "<div>\n",
       "<style scoped>\n",
       "    .dataframe tbody tr th:only-of-type {\n",
       "        vertical-align: middle;\n",
       "    }\n",
       "\n",
       "    .dataframe tbody tr th {\n",
       "        vertical-align: top;\n",
       "    }\n",
       "\n",
       "    .dataframe thead th {\n",
       "        text-align: right;\n",
       "    }\n",
       "</style>\n",
       "<table border=\"1\" class=\"dataframe\">\n",
       "  <thead>\n",
       "    <tr style=\"text-align: right;\">\n",
       "      <th></th>\n",
       "      <th>medical_history</th>\n",
       "      <th>symptoms</th>\n",
       "      <th>Processed_Medical_History</th>\n",
       "      <th>traditional</th>\n",
       "      <th>traditional_ss</th>\n",
       "      <th>langchain</th>\n",
       "      <th>precision_trad</th>\n",
       "      <th>recall_trad</th>\n",
       "      <th>f1_trad</th>\n",
       "      <th>precision_trad_ss</th>\n",
       "      <th>recall_trad_ss</th>\n",
       "      <th>f1_trad_ss</th>\n",
       "      <th>precision_lang</th>\n",
       "      <th>recall_lang</th>\n",
       "      <th>f1_lang</th>\n",
       "    </tr>\n",
       "  </thead>\n",
       "  <tbody>\n",
       "    <tr>\n",
       "      <th>0</th>\n",
       "      <td>A 24-year-old woman presents with acute swelli...</td>\n",
       "      <td>{1276: 'joint swelling', 2438: 'fever', 50: 'm...</td>\n",
       "      <td>([year old woman presents acute swelling right...</td>\n",
       "      <td>{661: 'history of chronic recurrent pain; righ...</td>\n",
       "      <td>{450: 'limited motion of range', 1562: 'swelli...</td>\n",
       "      <td>{'1109': 'Pain;musculoskeletal;knee', '4658': ...</td>\n",
       "      <td>[0.0, 0.0, 0.0, 0.0, 0.0, 0.0, 0.0, 0.0, 0.0, ...</td>\n",
       "      <td>[0.0, 0.0, 0.0, 0.0, 0.0, 0.0, 0.0, 0.0, 0.0, ...</td>\n",
       "      <td>[0, 0, 0, 0, 0, 0, 0, 0, 0, 0, 0.1111111111111...</td>\n",
       "      <td>[1.0, 0.5, 0.6666666666666666, 0.5, 0.6, 0.5, ...</td>\n",
       "      <td>[0.14285714285714285, 0.14285714285714285, 0.2...</td>\n",
       "      <td>[0.25, 0.22222222222222224, 0.4, 0.36363636363...</td>\n",
       "      <td>[0.0, 0.0, 0.0, 0.0, 0.0, 0.0, 0.0, 0.0, 0.0, ...</td>\n",
       "      <td>[0.0, 0.0, 0.0, 0.0, 0.0, 0.0, 0.0, 0.0, 0.0, ...</td>\n",
       "      <td>[0, 0, 0, 0, 0, 0, 0, 0, 0, 0, 0, 0, 0, 0, 0, ...</td>\n",
       "    </tr>\n",
       "    <tr>\n",
       "      <th>1</th>\n",
       "      <td>A 12-year-old girl presents with sudden-onset ...</td>\n",
       "      <td>{4334: 'Generalized abdominal pain', 1047: 'Na...</td>\n",
       "      <td>([year old girl presents sudden onset severe g...</td>\n",
       "      <td>{3953: 'cold arm of sudden onset?', 4334: 'gen...</td>\n",
       "      <td>{3772: 'no bowel sounds', 822: 'decreased bowe...</td>\n",
       "      <td>{'4334': 'Generalized abdominal pain', '412': ...</td>\n",
       "      <td>[0.0, 0.5, 0.6666666666666666, 0.75, 0.8, 0.83...</td>\n",
       "      <td>[0.0, 0.125, 0.25, 0.375, 0.5, 0.625, 0.75]</td>\n",
       "      <td>[0, 0.2, 0.36363636363636365, 0.5, 0.615384615...</td>\n",
       "      <td>[1.0, 0.5, 0.3333333333333333, 0.25, 0.4, 0.33...</td>\n",
       "      <td>[0.125, 0.125, 0.125, 0.125, 0.25, 0.25, 0.25,...</td>\n",
       "      <td>[0.2222222222222222, 0.2, 0.18181818181818182,...</td>\n",
       "      <td>[0.0, 0.0, 0.0, 0.0, 0.0, 0.0, 0.0, 0.0, 0.0, ...</td>\n",
       "      <td>[0.0, 0.0, 0.0, 0.0, 0.0, 0.0, 0.0, 0.0, 0.0, ...</td>\n",
       "      <td>[0, 0, 0, 0, 0, 0, 0, 0, 0, 0, 0, 0, 0, 0, 0, ...</td>\n",
       "    </tr>\n",
       "  </tbody>\n",
       "</table>\n",
       "</div>"
      ],
      "text/plain": [
       "                                     medical_history  \\\n",
       "0  A 24-year-old woman presents with acute swelli...   \n",
       "1  A 12-year-old girl presents with sudden-onset ...   \n",
       "\n",
       "                                            symptoms  \\\n",
       "0  {1276: 'joint swelling', 2438: 'fever', 50: 'm...   \n",
       "1  {4334: 'Generalized abdominal pain', 1047: 'Na...   \n",
       "\n",
       "                           Processed_Medical_History  \\\n",
       "0  ([year old woman presents acute swelling right...   \n",
       "1  ([year old girl presents sudden onset severe g...   \n",
       "\n",
       "                                         traditional  \\\n",
       "0  {661: 'history of chronic recurrent pain; righ...   \n",
       "1  {3953: 'cold arm of sudden onset?', 4334: 'gen...   \n",
       "\n",
       "                                      traditional_ss  \\\n",
       "0  {450: 'limited motion of range', 1562: 'swelli...   \n",
       "1  {3772: 'no bowel sounds', 822: 'decreased bowe...   \n",
       "\n",
       "                                           langchain  \\\n",
       "0  {'1109': 'Pain;musculoskeletal;knee', '4658': ...   \n",
       "1  {'4334': 'Generalized abdominal pain', '412': ...   \n",
       "\n",
       "                                      precision_trad  \\\n",
       "0  [0.0, 0.0, 0.0, 0.0, 0.0, 0.0, 0.0, 0.0, 0.0, ...   \n",
       "1  [0.0, 0.5, 0.6666666666666666, 0.75, 0.8, 0.83...   \n",
       "\n",
       "                                         recall_trad  \\\n",
       "0  [0.0, 0.0, 0.0, 0.0, 0.0, 0.0, 0.0, 0.0, 0.0, ...   \n",
       "1        [0.0, 0.125, 0.25, 0.375, 0.5, 0.625, 0.75]   \n",
       "\n",
       "                                             f1_trad  \\\n",
       "0  [0, 0, 0, 0, 0, 0, 0, 0, 0, 0, 0.1111111111111...   \n",
       "1  [0, 0.2, 0.36363636363636365, 0.5, 0.615384615...   \n",
       "\n",
       "                                   precision_trad_ss  \\\n",
       "0  [1.0, 0.5, 0.6666666666666666, 0.5, 0.6, 0.5, ...   \n",
       "1  [1.0, 0.5, 0.3333333333333333, 0.25, 0.4, 0.33...   \n",
       "\n",
       "                                      recall_trad_ss  \\\n",
       "0  [0.14285714285714285, 0.14285714285714285, 0.2...   \n",
       "1  [0.125, 0.125, 0.125, 0.125, 0.25, 0.25, 0.25,...   \n",
       "\n",
       "                                          f1_trad_ss  \\\n",
       "0  [0.25, 0.22222222222222224, 0.4, 0.36363636363...   \n",
       "1  [0.2222222222222222, 0.2, 0.18181818181818182,...   \n",
       "\n",
       "                                      precision_lang  \\\n",
       "0  [0.0, 0.0, 0.0, 0.0, 0.0, 0.0, 0.0, 0.0, 0.0, ...   \n",
       "1  [0.0, 0.0, 0.0, 0.0, 0.0, 0.0, 0.0, 0.0, 0.0, ...   \n",
       "\n",
       "                                         recall_lang  \\\n",
       "0  [0.0, 0.0, 0.0, 0.0, 0.0, 0.0, 0.0, 0.0, 0.0, ...   \n",
       "1  [0.0, 0.0, 0.0, 0.0, 0.0, 0.0, 0.0, 0.0, 0.0, ...   \n",
       "\n",
       "                                             f1_lang  \n",
       "0  [0, 0, 0, 0, 0, 0, 0, 0, 0, 0, 0, 0, 0, 0, 0, ...  \n",
       "1  [0, 0, 0, 0, 0, 0, 0, 0, 0, 0, 0, 0, 0, 0, 0, ...  "
      ]
     },
     "execution_count": 87,
     "metadata": {},
     "output_type": "execute_result"
    }
   ],
   "source": [
    "df_prf"
   ]
  },
  {
   "cell_type": "code",
   "execution_count": 100,
   "metadata": {},
   "outputs": [],
   "source": [
    "import matplotlib.pyplot as plt\n",
    "\n",
    "def plot_prf(df, precision, recall, f1, plot_name):\n",
    "\n",
    "    max_length = df[precision].apply(len).max()\n",
    "    padded_lists = df[precision].apply(lambda x: x + [0] * (max_length - len(x)))\n",
    "    average_precision_list = np.mean(padded_lists.tolist(), axis=0)\n",
    "\n",
    "    max_length = df[recall].apply(len).max()\n",
    "    padded_lists = df[recall].apply(lambda x: x + [0] * (max_length - len(x)))\n",
    "    average_recall_list = np.mean(padded_lists.tolist(), axis=0)\n",
    "\n",
    "    max_length = df[f1].apply(len).max()\n",
    "    padded_lists = df[f1].apply(lambda x: x + [0] * (max_length - len(x)))\n",
    "    average_f1_list = np.mean(padded_lists.tolist(), axis=0)\n",
    "\n",
    "    plt.figure()\n",
    "\n",
    "    k_values = list(range(1, len(average_list) + 1))\n",
    "    \n",
    "    # Plotting precision, recall, and F1-score\n",
    "    plt.plot(k_values, average_precision_list, label='Precision', marker='o')\n",
    "    plt.plot(k_values, average_recall_list, label='Recall', marker='o')\n",
    "    plt.plot(k_values, average_f1_list, label='F1-score', marker='o')\n",
    "\n",
    "    # Adding labels and title\n",
    "    plt.xlabel('k values')\n",
    "    plt.ylabel('Score')\n",
    "    plt.title('Precision, Recall, and F1-score vs. k')\n",
    "    plt.xticks(range(1, len(k_values) + 1),rotation = 90)\n",
    "    plt.legend()\n",
    "\n",
    "    # file_path = f\"/Users/mansipandya/Desktop/KnidianMD/reports/prf_graphs/{plot_name}_prf.png\"\n",
    "    # plt.savefig(file_path)"
   ]
  },
  {
   "cell_type": "code",
   "execution_count": 101,
   "metadata": {},
   "outputs": [
    {
     "data": {
      "image/png": "[encoded data removed]",
      "text/plain": [
       "<Figure size 640x480 with 1 Axes>"
      ]
     },
     "metadata": {},
     "output_type": "display_data"
    }
   ],
   "source": [
    "plot_prf(df_prf,'precision_trad','recall_trad','f1_trad', plot_name = \"traditional\")"
   ]
  },
  {
   "cell_type": "code",
   "execution_count": 129,
   "metadata": {},
   "outputs": [],
   "source": [
    "def compare_metrics(df,model_type,metric_type):\n",
    "    columns = [col for col in df.columns if col.startswith(metric_type)]\n",
    "    print(columns)\n",
    "    max_val = 0\n",
    "    for i,column in enumerate(columns):\n",
    "        max_length = df[column].apply(len).max()\n",
    "        max_val = max(max_val,max_length)\n",
    "        padded_lists = df[column].apply(lambda x: x + [0] * (max_length - len(x)))\n",
    "        average_list = np.mean(padded_lists.tolist(), axis=0)\n",
    "        plt.plot(list(range(1, len(average_list) + 1)), average_list,label=f'{metric_type} {model_type[i]}', marker='o')\n",
    "    \n",
    "    plt.xlabel('k values')\n",
    "    plt.ylabel('Score')\n",
    "    plt.title('Precision, Recall, and F1-score vs. k')\n",
    "    plt.xticks(list(range(1, max_val + 1)),rotation = 90)\n",
    "    plt.legend()\n",
    "\n",
    "\n",
    "    # plt.figure()\n",
    "    # file_path = f\"reports/{metric_type}/compare_{metric_type}.png\"\n",
    "    # plt.savefig(file_path)"
   ]
  },
  {
   "cell_type": "code",
   "execution_count": 130,
   "metadata": {},
   "outputs": [],
   "source": [
    "model_type = ['trad','trad + ss','langchain']"
   ]
  },
  {
   "cell_type": "code",
   "execution_count": 131,
   "metadata": {},
   "outputs": [
    {
     "name": "stdout",
     "output_type": "stream",
     "text": [
      "['precision_trad', 'precision_trad_ss', 'precision_lang']\n"
     ]
    },
    {
     "data": {
      "image/png": "[encoded data removed]",
      "text/plain": [
       "<Figure size 640x480 with 1 Axes>"
      ]
     },
     "metadata": {},
     "output_type": "display_data"
    }
   ],
   "source": [
    "compare_metrics(df_prf,model_type,metric_type='precision')"
   ]
  },
  {
   "cell_type": "code",
   "execution_count": 132,
   "metadata": {},
   "outputs": [
    {
     "name": "stdout",
     "output_type": "stream",
     "text": [
      "['recall_trad', 'recall_trad_ss', 'recall_lang']\n"
     ]
    },
    {
     "data": {
      "image/png": "[encoded data removed]",
      "text/plain": [
       "<Figure size 640x480 with 1 Axes>"
      ]
     },
     "metadata": {},
     "output_type": "display_data"
    }
   ],
   "source": [
    "compare_metrics(df_prf,model_type,metric_type='recall')"
   ]
  },
  {
   "cell_type": "code",
   "execution_count": 133,
   "metadata": {},
   "outputs": [
    {
     "name": "stdout",
     "output_type": "stream",
     "text": [
      "['f1_trad', 'f1_trad_ss', 'f1_lang']\n"
     ]
    },
    {
     "data": {
      "image/png": "[encoded data removed]",
      "text/plain": [
       "<Figure size 640x480 with 1 Axes>"
      ]
     },
     "metadata": {},
     "output_type": "display_data"
    }
   ],
   "source": [
    "compare_metrics(df_prf,model_type,metric_type='f1')"
   ]
  },
  {
   "cell_type": "markdown",
   "metadata": {},
   "source": [
    "## Testing with the new Test Cases"
   ]
  },
  {
   "cell_type": "code",
   "execution_count": 2,
   "metadata": {},
   "outputs": [],
   "source": [
    "import pandas as pd"
   ]
  },
  {
   "cell_type": "code",
   "execution_count": 3,
   "metadata": {},
   "outputs": [],
   "source": [
    "df_pmh = pd.read_pickle('/Users/mansipandya/Desktop/KnidianMD/checkpoints/df_pmh.pkl')"
   ]
  },
  {
   "cell_type": "code",
   "execution_count": 4,
   "metadata": {},
   "outputs": [
    {
     "data": {
      "text/html": [
       "<div>\n",
       "<style scoped>\n",
       "    .dataframe tbody tr th:only-of-type {\n",
       "        vertical-align: middle;\n",
       "    }\n",
       "\n",
       "    .dataframe tbody tr th {\n",
       "        vertical-align: top;\n",
       "    }\n",
       "\n",
       "    .dataframe thead th {\n",
       "        text-align: right;\n",
       "    }\n",
       "</style>\n",
       "<table border=\"1\" class=\"dataframe\">\n",
       "  <thead>\n",
       "    <tr style=\"text-align: right;\">\n",
       "      <th></th>\n",
       "      <th>medical_history</th>\n",
       "      <th>symptoms</th>\n",
       "      <th>Processed_Medical_History</th>\n",
       "    </tr>\n",
       "  </thead>\n",
       "  <tbody>\n",
       "    <tr>\n",
       "      <th>0</th>\n",
       "      <td>A 24-year-old woman presents with acute swelli...</td>\n",
       "      <td>{1276: 'joint swelling', 2438: 'fever', 50: 'm...</td>\n",
       "      <td>([year old woman presents acute swelling right...</td>\n",
       "    </tr>\n",
       "    <tr>\n",
       "      <th>1</th>\n",
       "      <td>A 12-year-old girl presents with sudden-onset ...</td>\n",
       "      <td>{4334: 'Generalized abdominal pain', 1047: 'Na...</td>\n",
       "      <td>([year old girl presents sudden onset severe g...</td>\n",
       "    </tr>\n",
       "    <tr>\n",
       "      <th>2</th>\n",
       "      <td>A 78-year-old man with emphysema and a 65-pack...</td>\n",
       "      <td>{1225: 'Personal history of emphysema', 110: '...</td>\n",
       "      <td>([year old man emphysema pack year history smo...</td>\n",
       "    </tr>\n",
       "    <tr>\n",
       "      <th>3</th>\n",
       "      <td>A previously healthy 15-year-old girl presents...</td>\n",
       "      <td>{3242: 'Acute Onset', 4: 'Chest pain', 1120: '...</td>\n",
       "      <td>([previously healthy year old girl presents em...</td>\n",
       "    </tr>\n",
       "    <tr>\n",
       "      <th>4</th>\n",
       "      <td>A 19-year-old woman reports irregular menses. ...</td>\n",
       "      <td>{352: 'Irregular Menses', 166: 'Oligomenorrhea...</td>\n",
       "      <td>([year old woman reports irregular menses, rea...</td>\n",
       "    </tr>\n",
       "    <tr>\n",
       "      <th>5</th>\n",
       "      <td>A 24-year-old woman presents with acute swelli...</td>\n",
       "      <td>{450: 'Range of joint movement reduced', 4216:...</td>\n",
       "      <td>([year old woman presents acute swelling right...</td>\n",
       "    </tr>\n",
       "    <tr>\n",
       "      <th>6</th>\n",
       "      <td>A 59-year-old man with a history of hypertensi...</td>\n",
       "      <td>{3276: 'Chronic Onset', 9: 'Personal history o...</td>\n",
       "      <td>([year old man history hypertension type diabe...</td>\n",
       "    </tr>\n",
       "    <tr>\n",
       "      <th>7</th>\n",
       "      <td>A 68-year-old woman with heart failure, chroni...</td>\n",
       "      <td>{104: 'Personal history heart failure', 9: 'Pe...</td>\n",
       "      <td>([year old woman heart failure chronic kidney ...</td>\n",
       "    </tr>\n",
       "  </tbody>\n",
       "</table>\n",
       "</div>"
      ],
      "text/plain": [
       "                                     medical_history  \\\n",
       "0  A 24-year-old woman presents with acute swelli...   \n",
       "1  A 12-year-old girl presents with sudden-onset ...   \n",
       "2  A 78-year-old man with emphysema and a 65-pack...   \n",
       "3  A previously healthy 15-year-old girl presents...   \n",
       "4  A 19-year-old woman reports irregular menses. ...   \n",
       "5  A 24-year-old woman presents with acute swelli...   \n",
       "6  A 59-year-old man with a history of hypertensi...   \n",
       "7  A 68-year-old woman with heart failure, chroni...   \n",
       "\n",
       "                                            symptoms  \\\n",
       "0  {1276: 'joint swelling', 2438: 'fever', 50: 'm...   \n",
       "1  {4334: 'Generalized abdominal pain', 1047: 'Na...   \n",
       "2  {1225: 'Personal history of emphysema', 110: '...   \n",
       "3  {3242: 'Acute Onset', 4: 'Chest pain', 1120: '...   \n",
       "4  {352: 'Irregular Menses', 166: 'Oligomenorrhea...   \n",
       "5  {450: 'Range of joint movement reduced', 4216:...   \n",
       "6  {3276: 'Chronic Onset', 9: 'Personal history o...   \n",
       "7  {104: 'Personal history heart failure', 9: 'Pe...   \n",
       "\n",
       "                           Processed_Medical_History  \n",
       "0  ([year old woman presents acute swelling right...  \n",
       "1  ([year old girl presents sudden onset severe g...  \n",
       "2  ([year old man emphysema pack year history smo...  \n",
       "3  ([previously healthy year old girl presents em...  \n",
       "4  ([year old woman reports irregular menses, rea...  \n",
       "5  ([year old woman presents acute swelling right...  \n",
       "6  ([year old man history hypertension type diabe...  \n",
       "7  ([year old woman heart failure chronic kidney ...  "
      ]
     },
     "execution_count": 4,
     "metadata": {},
     "output_type": "execute_result"
    }
   ],
   "source": [
    "df_pmh"
   ]
  },
  {
   "cell_type": "code",
   "execution_count": 5,
   "metadata": {},
   "outputs": [],
   "source": [
    "df_model = pd.read_pickle('/Users/mansipandya/Desktop/KnidianMD/checkpoints/df_model.pkl')"
   ]
  },
  {
   "cell_type": "code",
   "execution_count": 6,
   "metadata": {},
   "outputs": [
    {
     "data": {
      "text/html": [
       "<div>\n",
       "<style scoped>\n",
       "    .dataframe tbody tr th:only-of-type {\n",
       "        vertical-align: middle;\n",
       "    }\n",
       "\n",
       "    .dataframe tbody tr th {\n",
       "        vertical-align: top;\n",
       "    }\n",
       "\n",
       "    .dataframe thead th {\n",
       "        text-align: right;\n",
       "    }\n",
       "</style>\n",
       "<table border=\"1\" class=\"dataframe\">\n",
       "  <thead>\n",
       "    <tr style=\"text-align: right;\">\n",
       "      <th></th>\n",
       "      <th>medical_history</th>\n",
       "      <th>symptoms</th>\n",
       "      <th>Processed_Medical_History</th>\n",
       "      <th>traditional</th>\n",
       "      <th>traditional_ss</th>\n",
       "      <th>langchain</th>\n",
       "      <th>langchainv2</th>\n",
       "    </tr>\n",
       "  </thead>\n",
       "  <tbody>\n",
       "    <tr>\n",
       "      <th>0</th>\n",
       "      <td>A 24-year-old woman presents with acute swelli...</td>\n",
       "      <td>{1276: 'joint swelling', 2438: 'fever', 50: 'm...</td>\n",
       "      <td>([year old woman presents acute swelling right...</td>\n",
       "      <td>{661: 'history of chronic recurrent pain; righ...</td>\n",
       "      <td>{450: 'limited motion of range', 1562: 'swelli...</td>\n",
       "      <td>{1109: 'Arthralgia (knee)', 4658: 'Tenderness ...</td>\n",
       "      <td>{263: 'swelling of abdomen', 4347: 'swells', 1...</td>\n",
       "    </tr>\n",
       "    <tr>\n",
       "      <th>1</th>\n",
       "      <td>A 12-year-old girl presents with sudden-onset ...</td>\n",
       "      <td>{4334: 'Generalized abdominal pain', 1047: 'Na...</td>\n",
       "      <td>([year old girl presents sudden onset severe g...</td>\n",
       "      <td>{3953: 'cold arm of sudden onset?', 4334: 'gen...</td>\n",
       "      <td>{3772: 'no bowel sounds', 822: 'decreased bowe...</td>\n",
       "      <td>{4334: 'Generalized abdominal pain', 412: 'Acu...</td>\n",
       "      <td>{4334: 'Generalized abdominal pain', 1492: 're...</td>\n",
       "    </tr>\n",
       "    <tr>\n",
       "      <th>2</th>\n",
       "      <td>A 78-year-old man with emphysema and a 65-pack...</td>\n",
       "      <td>{1225: 'Personal history of emphysema', 110: '...</td>\n",
       "      <td>([year old man emphysema pack year history smo...</td>\n",
       "      <td>{1225: 'personal history of emphysema', 110: '...</td>\n",
       "      <td>{37: 'creatine kinase level', 130: 'high eryth...</td>\n",
       "      <td>{1225: 'Personal history of emphysema', 3919: ...</td>\n",
       "      <td>{3120: 'Progressive muscular weakness', 2315: ...</td>\n",
       "    </tr>\n",
       "    <tr>\n",
       "      <th>3</th>\n",
       "      <td>A previously healthy 15-year-old girl presents...</td>\n",
       "      <td>{3242: 'Acute Onset', 4: 'Chest pain', 1120: '...</td>\n",
       "      <td>([previously healthy year old girl presents em...</td>\n",
       "      <td>{3024: 'pain in shoulder radiating to forearm'...</td>\n",
       "      <td>{4089: 'electrocardiogram', 1167: 'chest x-ray...</td>\n",
       "      <td>{777: 'Left upper quadrant abdominal pain', 48...</td>\n",
       "      <td>{4: 'Chest pain', 3976: 'No Chest pain', 52: '...</td>\n",
       "    </tr>\n",
       "    <tr>\n",
       "      <th>4</th>\n",
       "      <td>A 19-year-old woman reports irregular menses. ...</td>\n",
       "      <td>{352: 'Irregular Menses', 166: 'Oligomenorrhea...</td>\n",
       "      <td>([year old woman reports irregular menses, rea...</td>\n",
       "      <td>{352: 'menses irregular', 3732: 'galactorrhea'...</td>\n",
       "      <td>{219: 'thyroid enlarged', 1271: 'glands enlarg...</td>\n",
       "      <td>{352: 'irregular period', 166: 'infrequent men...</td>\n",
       "      <td>{352: 'irregular period', 1992: 'Menstrual spo...</td>\n",
       "    </tr>\n",
       "    <tr>\n",
       "      <th>5</th>\n",
       "      <td>A 24-year-old woman presents with acute swelli...</td>\n",
       "      <td>{450: 'Range of joint movement reduced', 4216:...</td>\n",
       "      <td>([year old woman presents acute swelling right...</td>\n",
       "      <td>{661: 'history of chronic recurrent pain; righ...</td>\n",
       "      <td>{450: 'limited motion of range', 1562: 'swelli...</td>\n",
       "      <td>{1109: 'Arthralgia (knee)', 4658: 'Tenderness ...</td>\n",
       "      <td>{263: 'swelling of abdomen', 4347: 'swells', 1...</td>\n",
       "    </tr>\n",
       "    <tr>\n",
       "      <th>6</th>\n",
       "      <td>A 59-year-old man with a history of hypertensi...</td>\n",
       "      <td>{3276: 'Chronic Onset', 9: 'Personal history o...</td>\n",
       "      <td>([year old man history hypertension type diabe...</td>\n",
       "      <td>{3862: 'chronic cough lasting &gt; 3 months per y...</td>\n",
       "      <td>{209: 'glomerular filtration rate low', 864: '...</td>\n",
       "      <td>{9: 'History of hypertension (situation)', 366...</td>\n",
       "      <td>{4325: 'Idiopathic Headaches', 1901: 'Headache...</td>\n",
       "    </tr>\n",
       "    <tr>\n",
       "      <th>7</th>\n",
       "      <td>A 68-year-old woman with heart failure, chroni...</td>\n",
       "      <td>{104: 'Personal history heart failure', 9: 'Pe...</td>\n",
       "      <td>([year old woman heart failure chronic kidney ...</td>\n",
       "      <td>{3466: 'heart failure', 3467: 'kidney failure'...</td>\n",
       "      <td>{18: 'temperature elevation', 1630: 'ph monito...</td>\n",
       "      <td>{599: 'Acute kidney injury', 4086: 'Acute hear...</td>\n",
       "      <td>{104: 'History of congestive heart failure', 3...</td>\n",
       "    </tr>\n",
       "  </tbody>\n",
       "</table>\n",
       "</div>"
      ],
      "text/plain": [
       "                                     medical_history  \\\n",
       "0  A 24-year-old woman presents with acute swelli...   \n",
       "1  A 12-year-old girl presents with sudden-onset ...   \n",
       "2  A 78-year-old man with emphysema and a 65-pack...   \n",
       "3  A previously healthy 15-year-old girl presents...   \n",
       "4  A 19-year-old woman reports irregular menses. ...   \n",
       "5  A 24-year-old woman presents with acute swelli...   \n",
       "6  A 59-year-old man with a history of hypertensi...   \n",
       "7  A 68-year-old woman with heart failure, chroni...   \n",
       "\n",
       "                                            symptoms  \\\n",
       "0  {1276: 'joint swelling', 2438: 'fever', 50: 'm...   \n",
       "1  {4334: 'Generalized abdominal pain', 1047: 'Na...   \n",
       "2  {1225: 'Personal history of emphysema', 110: '...   \n",
       "3  {3242: 'Acute Onset', 4: 'Chest pain', 1120: '...   \n",
       "4  {352: 'Irregular Menses', 166: 'Oligomenorrhea...   \n",
       "5  {450: 'Range of joint movement reduced', 4216:...   \n",
       "6  {3276: 'Chronic Onset', 9: 'Personal history o...   \n",
       "7  {104: 'Personal history heart failure', 9: 'Pe...   \n",
       "\n",
       "                           Processed_Medical_History  \\\n",
       "0  ([year old woman presents acute swelling right...   \n",
       "1  ([year old girl presents sudden onset severe g...   \n",
       "2  ([year old man emphysema pack year history smo...   \n",
       "3  ([previously healthy year old girl presents em...   \n",
       "4  ([year old woman reports irregular menses, rea...   \n",
       "5  ([year old woman presents acute swelling right...   \n",
       "6  ([year old man history hypertension type diabe...   \n",
       "7  ([year old woman heart failure chronic kidney ...   \n",
       "\n",
       "                                         traditional  \\\n",
       "0  {661: 'history of chronic recurrent pain; righ...   \n",
       "1  {3953: 'cold arm of sudden onset?', 4334: 'gen...   \n",
       "2  {1225: 'personal history of emphysema', 110: '...   \n",
       "3  {3024: 'pain in shoulder radiating to forearm'...   \n",
       "4  {352: 'menses irregular', 3732: 'galactorrhea'...   \n",
       "5  {661: 'history of chronic recurrent pain; righ...   \n",
       "6  {3862: 'chronic cough lasting > 3 months per y...   \n",
       "7  {3466: 'heart failure', 3467: 'kidney failure'...   \n",
       "\n",
       "                                      traditional_ss  \\\n",
       "0  {450: 'limited motion of range', 1562: 'swelli...   \n",
       "1  {3772: 'no bowel sounds', 822: 'decreased bowe...   \n",
       "2  {37: 'creatine kinase level', 130: 'high eryth...   \n",
       "3  {4089: 'electrocardiogram', 1167: 'chest x-ray...   \n",
       "4  {219: 'thyroid enlarged', 1271: 'glands enlarg...   \n",
       "5  {450: 'limited motion of range', 1562: 'swelli...   \n",
       "6  {209: 'glomerular filtration rate low', 864: '...   \n",
       "7  {18: 'temperature elevation', 1630: 'ph monito...   \n",
       "\n",
       "                                           langchain  \\\n",
       "0  {1109: 'Arthralgia (knee)', 4658: 'Tenderness ...   \n",
       "1  {4334: 'Generalized abdominal pain', 412: 'Acu...   \n",
       "2  {1225: 'Personal history of emphysema', 3919: ...   \n",
       "3  {777: 'Left upper quadrant abdominal pain', 48...   \n",
       "4  {352: 'irregular period', 166: 'infrequent men...   \n",
       "5  {1109: 'Arthralgia (knee)', 4658: 'Tenderness ...   \n",
       "6  {9: 'History of hypertension (situation)', 366...   \n",
       "7  {599: 'Acute kidney injury', 4086: 'Acute hear...   \n",
       "\n",
       "                                         langchainv2  \n",
       "0  {263: 'swelling of abdomen', 4347: 'swells', 1...  \n",
       "1  {4334: 'Generalized abdominal pain', 1492: 're...  \n",
       "2  {3120: 'Progressive muscular weakness', 2315: ...  \n",
       "3  {4: 'Chest pain', 3976: 'No Chest pain', 52: '...  \n",
       "4  {352: 'irregular period', 1992: 'Menstrual spo...  \n",
       "5  {263: 'swelling of abdomen', 4347: 'swells', 1...  \n",
       "6  {4325: 'Idiopathic Headaches', 1901: 'Headache...  \n",
       "7  {104: 'History of congestive heart failure', 3...  "
      ]
     },
     "execution_count": 6,
     "metadata": {},
     "output_type": "execute_result"
    }
   ],
   "source": [
    "df_model"
   ]
  },
  {
   "cell_type": "code",
   "execution_count": 9,
   "metadata": {},
   "outputs": [],
   "source": [
    "df_model_eval = pd.read_pickle('/Users/mansipandya/Desktop/KnidianMD/checkpoints/df_prf_pickle.pkl')"
   ]
  },
  {
   "cell_type": "code",
   "execution_count": 10,
   "metadata": {},
   "outputs": [
    {
     "data": {
      "text/html": [
       "<div>\n",
       "<style scoped>\n",
       "    .dataframe tbody tr th:only-of-type {\n",
       "        vertical-align: middle;\n",
       "    }\n",
       "\n",
       "    .dataframe tbody tr th {\n",
       "        vertical-align: top;\n",
       "    }\n",
       "\n",
       "    .dataframe thead th {\n",
       "        text-align: right;\n",
       "    }\n",
       "</style>\n",
       "<table border=\"1\" class=\"dataframe\">\n",
       "  <thead>\n",
       "    <tr style=\"text-align: right;\">\n",
       "      <th></th>\n",
       "      <th>medical_history</th>\n",
       "      <th>symptoms</th>\n",
       "      <th>Processed_Medical_History</th>\n",
       "      <th>traditional</th>\n",
       "      <th>traditional_ss</th>\n",
       "      <th>langchain</th>\n",
       "      <th>langchainv2</th>\n",
       "      <th>precision_trad</th>\n",
       "      <th>recall_trad</th>\n",
       "      <th>f1_trad</th>\n",
       "      <th>precision_trad_ss</th>\n",
       "      <th>recall_trad_ss</th>\n",
       "      <th>f1_trad_ss</th>\n",
       "      <th>precision_lang</th>\n",
       "      <th>recall_lang</th>\n",
       "      <th>f1_lang</th>\n",
       "      <th>precision_langv2</th>\n",
       "      <th>recall_langv2</th>\n",
       "      <th>f1_langv2</th>\n",
       "    </tr>\n",
       "  </thead>\n",
       "  <tbody>\n",
       "    <tr>\n",
       "      <th>0</th>\n",
       "      <td>A 24-year-old woman presents with acute swelli...</td>\n",
       "      <td>{1276: 'joint swelling', 2438: 'fever', 50: 'm...</td>\n",
       "      <td>([year old woman presents acute swelling right...</td>\n",
       "      <td>{661: 'history of chronic recurrent pain; righ...</td>\n",
       "      <td>{450: 'limited motion of range', 1562: 'swelli...</td>\n",
       "      <td>{1109: 'Arthralgia (knee)', 4658: 'Tenderness ...</td>\n",
       "      <td>{263: 'swelling of abdomen', 4347: 'swells', 1...</td>\n",
       "      <td>[0.0, 0.0, 0.0, 0.0, 0.0, 0.0, 0.0, 0.0, 0.0, ...</td>\n",
       "      <td>[0.0, 0.0, 0.0, 0.0, 0.0, 0.0, 0.0, 0.0, 0.0, ...</td>\n",
       "      <td>[0, 0, 0, 0, 0, 0, 0, 0, 0, 0, 0.1111111111111...</td>\n",
       "      <td>[1.0, 0.5, 0.6666666666666666, 0.5, 0.6, 0.5, ...</td>\n",
       "      <td>[0.14285714285714285, 0.14285714285714285, 0.2...</td>\n",
       "      <td>[0.25, 0.22222222222222224, 0.4, 0.36363636363...</td>\n",
       "      <td>[0.0, 0.0, 0.0, 0.0, 0.2, 0.16666666666666666,...</td>\n",
       "      <td>[0.0, 0.0, 0.0, 0.0, 0.14285714285714285, 0.14...</td>\n",
       "      <td>[0, 0, 0, 0, 0.16666666666666666, 0.1538461538...</td>\n",
       "      <td>[0.0, 0.0, 0.0, 0.0, 0.0, 0.0, 0.1428571428571...</td>\n",
       "      <td>[0.0, 0.0, 0.0, 0.0, 0.0, 0.0, 0.1428571428571...</td>\n",
       "      <td>[0, 0, 0, 0, 0, 0, 0.14285714285714285, 0.1333...</td>\n",
       "    </tr>\n",
       "    <tr>\n",
       "      <th>1</th>\n",
       "      <td>A 12-year-old girl presents with sudden-onset ...</td>\n",
       "      <td>{4334: 'Generalized abdominal pain', 1047: 'Na...</td>\n",
       "      <td>([year old girl presents sudden onset severe g...</td>\n",
       "      <td>{3953: 'cold arm of sudden onset?', 4334: 'gen...</td>\n",
       "      <td>{3772: 'no bowel sounds', 822: 'decreased bowe...</td>\n",
       "      <td>{4334: 'Generalized abdominal pain', 412: 'Acu...</td>\n",
       "      <td>{4334: 'Generalized abdominal pain', 1492: 're...</td>\n",
       "      <td>[0.0, 0.5, 0.6666666666666666, 0.75, 0.8, 0.83...</td>\n",
       "      <td>[0.0, 0.125, 0.25, 0.375, 0.5, 0.625, 0.75]</td>\n",
       "      <td>[0, 0.2, 0.36363636363636365, 0.5, 0.615384615...</td>\n",
       "      <td>[1.0, 0.5, 0.3333333333333333, 0.25, 0.4, 0.33...</td>\n",
       "      <td>[0.125, 0.125, 0.125, 0.125, 0.25, 0.25, 0.25,...</td>\n",
       "      <td>[0.2222222222222222, 0.2, 0.18181818181818182,...</td>\n",
       "      <td>[1.0, 0.5, 0.3333333333333333, 0.25, 0.2, 0.33...</td>\n",
       "      <td>[0.125, 0.125, 0.125, 0.125, 0.125, 0.25, 0.25...</td>\n",
       "      <td>[0.2222222222222222, 0.2, 0.18181818181818182,...</td>\n",
       "      <td>[1.0, 0.5, 0.3333333333333333, 0.25, 0.2, 0.33...</td>\n",
       "      <td>[0.125, 0.125, 0.125, 0.125, 0.125, 0.25, 0.25...</td>\n",
       "      <td>[0.2222222222222222, 0.2, 0.18181818181818182,...</td>\n",
       "    </tr>\n",
       "    <tr>\n",
       "      <th>2</th>\n",
       "      <td>A 78-year-old man with emphysema and a 65-pack...</td>\n",
       "      <td>{1225: 'Personal history of emphysema', 110: '...</td>\n",
       "      <td>([year old man emphysema pack year history smo...</td>\n",
       "      <td>{1225: 'personal history of emphysema', 110: '...</td>\n",
       "      <td>{37: 'creatine kinase level', 130: 'high eryth...</td>\n",
       "      <td>{1225: 'Personal history of emphysema', 3919: ...</td>\n",
       "      <td>{3120: 'Progressive muscular weakness', 2315: ...</td>\n",
       "      <td>[1.0, 1.0, 1.0, 0.75, 0.6]</td>\n",
       "      <td>[0.125, 0.25, 0.375, 0.375, 0.375]</td>\n",
       "      <td>[0.2222222222222222, 0.4, 0.5454545454545454, ...</td>\n",
       "      <td>[0.0, 0.5, 0.3333333333333333, 0.25, 0.2, 0.16...</td>\n",
       "      <td>[0.0, 0.125, 0.125, 0.125, 0.125, 0.125, 0.125...</td>\n",
       "      <td>[0, 0.2, 0.18181818181818182, 0.16666666666666...</td>\n",
       "      <td>[1.0, 0.5, 0.3333333333333333, 0.25, 0.2, 0.16...</td>\n",
       "      <td>[0.125, 0.125, 0.125, 0.125, 0.125, 0.125, 0.1...</td>\n",
       "      <td>[0.2222222222222222, 0.2, 0.18181818181818182,...</td>\n",
       "      <td>[0.0, 0.0, 0.0, 0.25, 0.2, 0.16666666666666666...</td>\n",
       "      <td>[0.0, 0.0, 0.0, 0.125, 0.125, 0.125, 0.125, 0....</td>\n",
       "      <td>[0, 0, 0, 0.16666666666666666, 0.1538461538461...</td>\n",
       "    </tr>\n",
       "    <tr>\n",
       "      <th>3</th>\n",
       "      <td>A previously healthy 15-year-old girl presents...</td>\n",
       "      <td>{3242: 'Acute Onset', 4: 'Chest pain', 1120: '...</td>\n",
       "      <td>([previously healthy year old girl presents em...</td>\n",
       "      <td>{3024: 'pain in shoulder radiating to forearm'...</td>\n",
       "      <td>{4089: 'electrocardiogram', 1167: 'chest x-ray...</td>\n",
       "      <td>{777: 'Left upper quadrant abdominal pain', 48...</td>\n",
       "      <td>{4: 'Chest pain', 3976: 'No Chest pain', 52: '...</td>\n",
       "      <td>[0.0, 0.0, 0.0, 0.0, 0.2, 0.16666666666666666,...</td>\n",
       "      <td>[0.0, 0.0, 0.0, 0.0, 0.1, 0.1, 0.2, 0.3, 0.4, ...</td>\n",
       "      <td>[0, 0, 0, 0, 0.13333333333333333, 0.125, 0.235...</td>\n",
       "      <td>[0.0, 0.5, 0.3333333333333333, 0.25, 0.2, 0.16...</td>\n",
       "      <td>[0.0, 0.1, 0.1, 0.1, 0.1, 0.1, 0.2, 0.2, 0.2, ...</td>\n",
       "      <td>[0, 0.16666666666666669, 0.15384615384615383, ...</td>\n",
       "      <td>[0.0, 0.0, 0.0, 0.0, 0.0, 0.16666666666666666,...</td>\n",
       "      <td>[0.0, 0.0, 0.0, 0.0, 0.0, 0.1, 0.1, 0.1, 0.1, ...</td>\n",
       "      <td>[0, 0, 0, 0, 0, 0.125, 0.11764705882352941, 0....</td>\n",
       "      <td>[1.0, 0.5, 0.3333333333333333, 0.25, 0.2, 0.33...</td>\n",
       "      <td>[0.1, 0.1, 0.1, 0.1, 0.1, 0.2, 0.2, 0.2, 0.2, ...</td>\n",
       "      <td>[0.18181818181818182, 0.16666666666666669, 0.1...</td>\n",
       "    </tr>\n",
       "    <tr>\n",
       "      <th>4</th>\n",
       "      <td>A 19-year-old woman reports irregular menses. ...</td>\n",
       "      <td>{352: 'Irregular Menses', 166: 'Oligomenorrhea...</td>\n",
       "      <td>([year old woman reports irregular menses, rea...</td>\n",
       "      <td>{352: 'menses irregular', 3732: 'galactorrhea'...</td>\n",
       "      <td>{219: 'thyroid enlarged', 1271: 'glands enlarg...</td>\n",
       "      <td>{352: 'irregular period', 166: 'infrequent men...</td>\n",
       "      <td>{352: 'irregular period', 1992: 'Menstrual spo...</td>\n",
       "      <td>[1.0, 0.5, 0.6666666666666666, 0.5, 0.4, 0.333...</td>\n",
       "      <td>[0.14285714285714285, 0.14285714285714285, 0.2...</td>\n",
       "      <td>[0.25, 0.22222222222222224, 0.4, 0.36363636363...</td>\n",
       "      <td>[0.0, 0.0, 0.3333333333333333, 0.25, 0.2, 0.16...</td>\n",
       "      <td>[0.0, 0.0, 0.14285714285714285, 0.142857142857...</td>\n",
       "      <td>[0, 0, 0.2, 0.18181818181818182, 0.16666666666...</td>\n",
       "      <td>[1.0, 1.0, 0.6666666666666666, 0.5, 0.4, 0.333...</td>\n",
       "      <td>[0.14285714285714285, 0.2857142857142857, 0.28...</td>\n",
       "      <td>[0.25, 0.4444444444444445, 0.4, 0.363636363636...</td>\n",
       "      <td>[1.0, 0.5, 0.3333333333333333, 0.25, 0.4, 0.33...</td>\n",
       "      <td>[0.14285714285714285, 0.14285714285714285, 0.1...</td>\n",
       "      <td>[0.25, 0.22222222222222224, 0.2, 0.18181818181...</td>\n",
       "    </tr>\n",
       "    <tr>\n",
       "      <th>5</th>\n",
       "      <td>A 24-year-old woman presents with acute swelli...</td>\n",
       "      <td>{450: 'Range of joint movement reduced', 4216:...</td>\n",
       "      <td>([year old woman presents acute swelling right...</td>\n",
       "      <td>{661: 'history of chronic recurrent pain; righ...</td>\n",
       "      <td>{450: 'limited motion of range', 1562: 'swelli...</td>\n",
       "      <td>{1109: 'Arthralgia (knee)', 4658: 'Tenderness ...</td>\n",
       "      <td>{263: 'swelling of abdomen', 4347: 'swells', 1...</td>\n",
       "      <td>[0.0, 0.5, 0.3333333333333333, 0.25, 0.2, 0.16...</td>\n",
       "      <td>[0.0, 0.2, 0.2, 0.2, 0.2, 0.2, 0.2, 0.2, 0.2, ...</td>\n",
       "      <td>[0, 0.28571428571428575, 0.25, 0.2222222222222...</td>\n",
       "      <td>[1.0, 0.5, 0.6666666666666666, 0.75, 0.6, 0.5,...</td>\n",
       "      <td>[0.2, 0.2, 0.4, 0.6, 0.6, 0.6, 0.6, 0.6, 0.6, ...</td>\n",
       "      <td>[0.33333333333333337, 0.28571428571428575, 0.5...</td>\n",
       "      <td>[1.0, 0.5, 0.3333333333333333, 0.25, 0.2, 0.16...</td>\n",
       "      <td>[0.2, 0.2, 0.2, 0.2, 0.2, 0.2, 0.2, 0.2, 0.2, ...</td>\n",
       "      <td>[0.33333333333333337, 0.28571428571428575, 0.2...</td>\n",
       "      <td>[0.0, 0.0, 0.0, 0.25, 0.2, 0.16666666666666666...</td>\n",
       "      <td>[0.0, 0.0, 0.0, 0.2, 0.2, 0.2, 0.2, 0.2, 0.2, ...</td>\n",
       "      <td>[0, 0, 0, 0.22222222222222224, 0.2000000000000...</td>\n",
       "    </tr>\n",
       "    <tr>\n",
       "      <th>6</th>\n",
       "      <td>A 59-year-old man with a history of hypertensi...</td>\n",
       "      <td>{3276: 'Chronic Onset', 9: 'Personal history o...</td>\n",
       "      <td>([year old man history hypertension type diabe...</td>\n",
       "      <td>{3862: 'chronic cough lasting &gt; 3 months per y...</td>\n",
       "      <td>{209: 'glomerular filtration rate low', 864: '...</td>\n",
       "      <td>{9: 'History of hypertension (situation)', 366...</td>\n",
       "      <td>{4325: 'Idiopathic Headaches', 1901: 'Headache...</td>\n",
       "      <td>[0.0, 0.5, 0.3333333333333333, 0.25, 0.2, 0.16...</td>\n",
       "      <td>[0.0, 0.07142857142857142, 0.07142857142857142...</td>\n",
       "      <td>[0, 0.125, 0.11764705882352941, 0.111111111111...</td>\n",
       "      <td>[1.0, 0.5, 0.6666666666666666, 0.5, 0.4, 0.333...</td>\n",
       "      <td>[0.07142857142857142, 0.07142857142857142, 0.1...</td>\n",
       "      <td>[0.13333333333333333, 0.125, 0.235294117647058...</td>\n",
       "      <td>[1.0, 0.5, 0.3333333333333333, 0.25, 0.2, 0.16...</td>\n",
       "      <td>[0.07142857142857142, 0.07142857142857142, 0.0...</td>\n",
       "      <td>[0.13333333333333333, 0.125, 0.117647058823529...</td>\n",
       "      <td>[0.0, 0.0, 0.0, 0.0, 0.2, 0.16666666666666666,...</td>\n",
       "      <td>[0.0, 0.0, 0.0, 0.0, 0.07142857142857142, 0.07...</td>\n",
       "      <td>[0, 0, 0, 0, 0.10526315789473682, 0.1, 0.09523...</td>\n",
       "    </tr>\n",
       "    <tr>\n",
       "      <th>7</th>\n",
       "      <td>A 68-year-old woman with heart failure, chroni...</td>\n",
       "      <td>{104: 'Personal history heart failure', 9: 'Pe...</td>\n",
       "      <td>([year old woman heart failure chronic kidney ...</td>\n",
       "      <td>{3466: 'heart failure', 3467: 'kidney failure'...</td>\n",
       "      <td>{18: 'temperature elevation', 1630: 'ph monito...</td>\n",
       "      <td>{599: 'Acute kidney injury', 4086: 'Acute hear...</td>\n",
       "      <td>{104: 'History of congestive heart failure', 3...</td>\n",
       "      <td>[0.0, 0.0, 0.0, 0.25, 0.4, 0.3333333333333333,...</td>\n",
       "      <td>[0.0, 0.0, 0.0, 0.058823529411764705, 0.117647...</td>\n",
       "      <td>[0, 0, 0, 0.09523809523809523, 0.1818181818181...</td>\n",
       "      <td>[1.0, 0.5, 0.3333333333333333, 0.5, 0.4, 0.333...</td>\n",
       "      <td>[0.058823529411764705, 0.058823529411764705, 0...</td>\n",
       "      <td>[0.1111111111111111, 0.10526315789473684, 0.1,...</td>\n",
       "      <td>[0.0, 0.0, 0.0, 0.25, 0.4, 0.3333333333333333,...</td>\n",
       "      <td>[0.0, 0.0, 0.0, 0.058823529411764705, 0.117647...</td>\n",
       "      <td>[0, 0, 0, 0.09523809523809523, 0.1818181818181...</td>\n",
       "      <td>[1.0, 0.5, 0.3333333333333333, 0.25, 0.2, 0.16...</td>\n",
       "      <td>[0.058823529411764705, 0.058823529411764705, 0...</td>\n",
       "      <td>[0.1111111111111111, 0.10526315789473684, 0.1,...</td>\n",
       "    </tr>\n",
       "  </tbody>\n",
       "</table>\n",
       "</div>"
      ],
      "text/plain": [
       "                                     medical_history  \\\n",
       "0  A 24-year-old woman presents with acute swelli...   \n",
       "1  A 12-year-old girl presents with sudden-onset ...   \n",
       "2  A 78-year-old man with emphysema and a 65-pack...   \n",
       "3  A previously healthy 15-year-old girl presents...   \n",
       "4  A 19-year-old woman reports irregular menses. ...   \n",
       "5  A 24-year-old woman presents with acute swelli...   \n",
       "6  A 59-year-old man with a history of hypertensi...   \n",
       "7  A 68-year-old woman with heart failure, chroni...   \n",
       "\n",
       "                                            symptoms  \\\n",
       "0  {1276: 'joint swelling', 2438: 'fever', 50: 'm...   \n",
       "1  {4334: 'Generalized abdominal pain', 1047: 'Na...   \n",
       "2  {1225: 'Personal history of emphysema', 110: '...   \n",
       "3  {3242: 'Acute Onset', 4: 'Chest pain', 1120: '...   \n",
       "4  {352: 'Irregular Menses', 166: 'Oligomenorrhea...   \n",
       "5  {450: 'Range of joint movement reduced', 4216:...   \n",
       "6  {3276: 'Chronic Onset', 9: 'Personal history o...   \n",
       "7  {104: 'Personal history heart failure', 9: 'Pe...   \n",
       "\n",
       "                           Processed_Medical_History  \\\n",
       "0  ([year old woman presents acute swelling right...   \n",
       "1  ([year old girl presents sudden onset severe g...   \n",
       "2  ([year old man emphysema pack year history smo...   \n",
       "3  ([previously healthy year old girl presents em...   \n",
       "4  ([year old woman reports irregular menses, rea...   \n",
       "5  ([year old woman presents acute swelling right...   \n",
       "6  ([year old man history hypertension type diabe...   \n",
       "7  ([year old woman heart failure chronic kidney ...   \n",
       "\n",
       "                                         traditional  \\\n",
       "0  {661: 'history of chronic recurrent pain; righ...   \n",
       "1  {3953: 'cold arm of sudden onset?', 4334: 'gen...   \n",
       "2  {1225: 'personal history of emphysema', 110: '...   \n",
       "3  {3024: 'pain in shoulder radiating to forearm'...   \n",
       "4  {352: 'menses irregular', 3732: 'galactorrhea'...   \n",
       "5  {661: 'history of chronic recurrent pain; righ...   \n",
       "6  {3862: 'chronic cough lasting > 3 months per y...   \n",
       "7  {3466: 'heart failure', 3467: 'kidney failure'...   \n",
       "\n",
       "                                      traditional_ss  \\\n",
       "0  {450: 'limited motion of range', 1562: 'swelli...   \n",
       "1  {3772: 'no bowel sounds', 822: 'decreased bowe...   \n",
       "2  {37: 'creatine kinase level', 130: 'high eryth...   \n",
       "3  {4089: 'electrocardiogram', 1167: 'chest x-ray...   \n",
       "4  {219: 'thyroid enlarged', 1271: 'glands enlarg...   \n",
       "5  {450: 'limited motion of range', 1562: 'swelli...   \n",
       "6  {209: 'glomerular filtration rate low', 864: '...   \n",
       "7  {18: 'temperature elevation', 1630: 'ph monito...   \n",
       "\n",
       "                                           langchain  \\\n",
       "0  {1109: 'Arthralgia (knee)', 4658: 'Tenderness ...   \n",
       "1  {4334: 'Generalized abdominal pain', 412: 'Acu...   \n",
       "2  {1225: 'Personal history of emphysema', 3919: ...   \n",
       "3  {777: 'Left upper quadrant abdominal pain', 48...   \n",
       "4  {352: 'irregular period', 166: 'infrequent men...   \n",
       "5  {1109: 'Arthralgia (knee)', 4658: 'Tenderness ...   \n",
       "6  {9: 'History of hypertension (situation)', 366...   \n",
       "7  {599: 'Acute kidney injury', 4086: 'Acute hear...   \n",
       "\n",
       "                                         langchainv2  \\\n",
       "0  {263: 'swelling of abdomen', 4347: 'swells', 1...   \n",
       "1  {4334: 'Generalized abdominal pain', 1492: 're...   \n",
       "2  {3120: 'Progressive muscular weakness', 2315: ...   \n",
       "3  {4: 'Chest pain', 3976: 'No Chest pain', 52: '...   \n",
       "4  {352: 'irregular period', 1992: 'Menstrual spo...   \n",
       "5  {263: 'swelling of abdomen', 4347: 'swells', 1...   \n",
       "6  {4325: 'Idiopathic Headaches', 1901: 'Headache...   \n",
       "7  {104: 'History of congestive heart failure', 3...   \n",
       "\n",
       "                                      precision_trad  \\\n",
       "0  [0.0, 0.0, 0.0, 0.0, 0.0, 0.0, 0.0, 0.0, 0.0, ...   \n",
       "1  [0.0, 0.5, 0.6666666666666666, 0.75, 0.8, 0.83...   \n",
       "2                         [1.0, 1.0, 1.0, 0.75, 0.6]   \n",
       "3  [0.0, 0.0, 0.0, 0.0, 0.2, 0.16666666666666666,...   \n",
       "4  [1.0, 0.5, 0.6666666666666666, 0.5, 0.4, 0.333...   \n",
       "5  [0.0, 0.5, 0.3333333333333333, 0.25, 0.2, 0.16...   \n",
       "6  [0.0, 0.5, 0.3333333333333333, 0.25, 0.2, 0.16...   \n",
       "7  [0.0, 0.0, 0.0, 0.25, 0.4, 0.3333333333333333,...   \n",
       "\n",
       "                                         recall_trad  \\\n",
       "0  [0.0, 0.0, 0.0, 0.0, 0.0, 0.0, 0.0, 0.0, 0.0, ...   \n",
       "1        [0.0, 0.125, 0.25, 0.375, 0.5, 0.625, 0.75]   \n",
       "2                 [0.125, 0.25, 0.375, 0.375, 0.375]   \n",
       "3  [0.0, 0.0, 0.0, 0.0, 0.1, 0.1, 0.2, 0.3, 0.4, ...   \n",
       "4  [0.14285714285714285, 0.14285714285714285, 0.2...   \n",
       "5  [0.0, 0.2, 0.2, 0.2, 0.2, 0.2, 0.2, 0.2, 0.2, ...   \n",
       "6  [0.0, 0.07142857142857142, 0.07142857142857142...   \n",
       "7  [0.0, 0.0, 0.0, 0.058823529411764705, 0.117647...   \n",
       "\n",
       "                                             f1_trad  \\\n",
       "0  [0, 0, 0, 0, 0, 0, 0, 0, 0, 0, 0.1111111111111...   \n",
       "1  [0, 0.2, 0.36363636363636365, 0.5, 0.615384615...   \n",
       "2  [0.2222222222222222, 0.4, 0.5454545454545454, ...   \n",
       "3  [0, 0, 0, 0, 0.13333333333333333, 0.125, 0.235...   \n",
       "4  [0.25, 0.22222222222222224, 0.4, 0.36363636363...   \n",
       "5  [0, 0.28571428571428575, 0.25, 0.2222222222222...   \n",
       "6  [0, 0.125, 0.11764705882352941, 0.111111111111...   \n",
       "7  [0, 0, 0, 0.09523809523809523, 0.1818181818181...   \n",
       "\n",
       "                                   precision_trad_ss  \\\n",
       "0  [1.0, 0.5, 0.6666666666666666, 0.5, 0.6, 0.5, ...   \n",
       "1  [1.0, 0.5, 0.3333333333333333, 0.25, 0.4, 0.33...   \n",
       "2  [0.0, 0.5, 0.3333333333333333, 0.25, 0.2, 0.16...   \n",
       "3  [0.0, 0.5, 0.3333333333333333, 0.25, 0.2, 0.16...   \n",
       "4  [0.0, 0.0, 0.3333333333333333, 0.25, 0.2, 0.16...   \n",
       "5  [1.0, 0.5, 0.6666666666666666, 0.75, 0.6, 0.5,...   \n",
       "6  [1.0, 0.5, 0.6666666666666666, 0.5, 0.4, 0.333...   \n",
       "7  [1.0, 0.5, 0.3333333333333333, 0.5, 0.4, 0.333...   \n",
       "\n",
       "                                      recall_trad_ss  \\\n",
       "0  [0.14285714285714285, 0.14285714285714285, 0.2...   \n",
       "1  [0.125, 0.125, 0.125, 0.125, 0.25, 0.25, 0.25,...   \n",
       "2  [0.0, 0.125, 0.125, 0.125, 0.125, 0.125, 0.125...   \n",
       "3  [0.0, 0.1, 0.1, 0.1, 0.1, 0.1, 0.2, 0.2, 0.2, ...   \n",
       "4  [0.0, 0.0, 0.14285714285714285, 0.142857142857...   \n",
       "5  [0.2, 0.2, 0.4, 0.6, 0.6, 0.6, 0.6, 0.6, 0.6, ...   \n",
       "6  [0.07142857142857142, 0.07142857142857142, 0.1...   \n",
       "7  [0.058823529411764705, 0.058823529411764705, 0...   \n",
       "\n",
       "                                          f1_trad_ss  \\\n",
       "0  [0.25, 0.22222222222222224, 0.4, 0.36363636363...   \n",
       "1  [0.2222222222222222, 0.2, 0.18181818181818182,...   \n",
       "2  [0, 0.2, 0.18181818181818182, 0.16666666666666...   \n",
       "3  [0, 0.16666666666666669, 0.15384615384615383, ...   \n",
       "4  [0, 0, 0.2, 0.18181818181818182, 0.16666666666...   \n",
       "5  [0.33333333333333337, 0.28571428571428575, 0.5...   \n",
       "6  [0.13333333333333333, 0.125, 0.235294117647058...   \n",
       "7  [0.1111111111111111, 0.10526315789473684, 0.1,...   \n",
       "\n",
       "                                      precision_lang  \\\n",
       "0  [0.0, 0.0, 0.0, 0.0, 0.2, 0.16666666666666666,...   \n",
       "1  [1.0, 0.5, 0.3333333333333333, 0.25, 0.2, 0.33...   \n",
       "2  [1.0, 0.5, 0.3333333333333333, 0.25, 0.2, 0.16...   \n",
       "3  [0.0, 0.0, 0.0, 0.0, 0.0, 0.16666666666666666,...   \n",
       "4  [1.0, 1.0, 0.6666666666666666, 0.5, 0.4, 0.333...   \n",
       "5  [1.0, 0.5, 0.3333333333333333, 0.25, 0.2, 0.16...   \n",
       "6  [1.0, 0.5, 0.3333333333333333, 0.25, 0.2, 0.16...   \n",
       "7  [0.0, 0.0, 0.0, 0.25, 0.4, 0.3333333333333333,...   \n",
       "\n",
       "                                         recall_lang  \\\n",
       "0  [0.0, 0.0, 0.0, 0.0, 0.14285714285714285, 0.14...   \n",
       "1  [0.125, 0.125, 0.125, 0.125, 0.125, 0.25, 0.25...   \n",
       "2  [0.125, 0.125, 0.125, 0.125, 0.125, 0.125, 0.1...   \n",
       "3  [0.0, 0.0, 0.0, 0.0, 0.0, 0.1, 0.1, 0.1, 0.1, ...   \n",
       "4  [0.14285714285714285, 0.2857142857142857, 0.28...   \n",
       "5  [0.2, 0.2, 0.2, 0.2, 0.2, 0.2, 0.2, 0.2, 0.2, ...   \n",
       "6  [0.07142857142857142, 0.07142857142857142, 0.0...   \n",
       "7  [0.0, 0.0, 0.0, 0.058823529411764705, 0.117647...   \n",
       "\n",
       "                                             f1_lang  \\\n",
       "0  [0, 0, 0, 0, 0.16666666666666666, 0.1538461538...   \n",
       "1  [0.2222222222222222, 0.2, 0.18181818181818182,...   \n",
       "2  [0.2222222222222222, 0.2, 0.18181818181818182,...   \n",
       "3  [0, 0, 0, 0, 0, 0.125, 0.11764705882352941, 0....   \n",
       "4  [0.25, 0.4444444444444445, 0.4, 0.363636363636...   \n",
       "5  [0.33333333333333337, 0.28571428571428575, 0.2...   \n",
       "6  [0.13333333333333333, 0.125, 0.117647058823529...   \n",
       "7  [0, 0, 0, 0.09523809523809523, 0.1818181818181...   \n",
       "\n",
       "                                    precision_langv2  \\\n",
       "0  [0.0, 0.0, 0.0, 0.0, 0.0, 0.0, 0.1428571428571...   \n",
       "1  [1.0, 0.5, 0.3333333333333333, 0.25, 0.2, 0.33...   \n",
       "2  [0.0, 0.0, 0.0, 0.25, 0.2, 0.16666666666666666...   \n",
       "3  [1.0, 0.5, 0.3333333333333333, 0.25, 0.2, 0.33...   \n",
       "4  [1.0, 0.5, 0.3333333333333333, 0.25, 0.4, 0.33...   \n",
       "5  [0.0, 0.0, 0.0, 0.25, 0.2, 0.16666666666666666...   \n",
       "6  [0.0, 0.0, 0.0, 0.0, 0.2, 0.16666666666666666,...   \n",
       "7  [1.0, 0.5, 0.3333333333333333, 0.25, 0.2, 0.16...   \n",
       "\n",
       "                                       recall_langv2  \\\n",
       "0  [0.0, 0.0, 0.0, 0.0, 0.0, 0.0, 0.1428571428571...   \n",
       "1  [0.125, 0.125, 0.125, 0.125, 0.125, 0.25, 0.25...   \n",
       "2  [0.0, 0.0, 0.0, 0.125, 0.125, 0.125, 0.125, 0....   \n",
       "3  [0.1, 0.1, 0.1, 0.1, 0.1, 0.2, 0.2, 0.2, 0.2, ...   \n",
       "4  [0.14285714285714285, 0.14285714285714285, 0.1...   \n",
       "5  [0.0, 0.0, 0.0, 0.2, 0.2, 0.2, 0.2, 0.2, 0.2, ...   \n",
       "6  [0.0, 0.0, 0.0, 0.0, 0.07142857142857142, 0.07...   \n",
       "7  [0.058823529411764705, 0.058823529411764705, 0...   \n",
       "\n",
       "                                           f1_langv2  \n",
       "0  [0, 0, 0, 0, 0, 0, 0.14285714285714285, 0.1333...  \n",
       "1  [0.2222222222222222, 0.2, 0.18181818181818182,...  \n",
       "2  [0, 0, 0, 0.16666666666666666, 0.1538461538461...  \n",
       "3  [0.18181818181818182, 0.16666666666666669, 0.1...  \n",
       "4  [0.25, 0.22222222222222224, 0.2, 0.18181818181...  \n",
       "5  [0, 0, 0, 0.22222222222222224, 0.2000000000000...  \n",
       "6  [0, 0, 0, 0, 0.10526315789473682, 0.1, 0.09523...  \n",
       "7  [0.1111111111111111, 0.10526315789473684, 0.1,...  "
      ]
     },
     "execution_count": 10,
     "metadata": {},
     "output_type": "execute_result"
    }
   ],
   "source": [
    "df_model_eval"
   ]
  },
  {
   "cell_type": "code",
   "execution_count": null,
   "metadata": {},
   "outputs": [],
   "source": []
  }
 ],
 "metadata": {
  "kernelspec": {
   "display_name": "knidianmd",
   "language": "python",
   "name": "python3"
  },
  "language_info": {
   "codemirror_mode": {
    "name": "ipython",
    "version": 3
   },
   "file_extension": ".py",
   "mimetype": "text/x-python",
   "name": "python",
   "nbconvert_exporter": "python",
   "pygments_lexer": "ipython3",
   "version": "3.12.1"
  }
 },
 "nbformat": 4,
 "nbformat_minor": 2
}
